{
  "nbformat": 4,
  "nbformat_minor": 0,
  "metadata": {
    "colab": {
      "provenance": [],
      "gpuType": "T4",
      "include_colab_link": true
    },
    "kernelspec": {
      "name": "python3",
      "display_name": "Python 3"
    },
    "language_info": {
      "name": "python"
    },
    "accelerator": "GPU"
  },
  "cells": [
    {
      "cell_type": "markdown",
      "metadata": {
        "id": "view-in-github",
        "colab_type": "text"
      },
      "source": [
        "<a href=\"https://colab.research.google.com/github/CristianRiquelmeF/NLP-aplicado-a-Clasificacion-de-Notas-Clinicas/blob/main/M8Final_CristianRiquelme.ipynb\" target=\"_parent\"><img src=\"https://colab.research.google.com/assets/colab-badge.svg\" alt=\"Open In Colab\"/></a>"
      ]
    },
    {
      "cell_type": "markdown",
      "source": [
        "*   Nombre: Cristian Riquelme\n",
        "\n",
        "\n",
        "\n",
        "> Clasificación de notas clínicas para detección temprana de afecciones, con enfoque ético y mitigación de sesgos\n",
        "\n",
        "**Objetivo:** Desarrollar un sistema de NLP capaz de clasificar textos médicos (notas clínicas, síntomas, diagnósticos) según su gravedad clínica (leve/moderado/severo) integrando buenas prácticas de preprocesamiento, evaluación y mitigación de sesgos lingüísticos y sociales.\n"
      ],
      "metadata": {
        "id": "2vNOP_5nWyII"
      }
    },
    {
      "cell_type": "code",
      "metadata": {
        "colab": {
          "base_uri": "https://localhost:8080/"
        },
        "id": "5846c441",
        "outputId": "22b87bff-5788-4749-d12c-23023291d05f"
      },
      "source": [
        "!pip install gensim #para W2V"
      ],
      "execution_count": null,
      "outputs": [
        {
          "output_type": "stream",
          "name": "stdout",
          "text": [
            "Requirement already satisfied: gensim in /usr/local/lib/python3.12/dist-packages (4.3.3)\n",
            "Requirement already satisfied: numpy<2.0,>=1.18.5 in /usr/local/lib/python3.12/dist-packages (from gensim) (1.26.4)\n",
            "Requirement already satisfied: scipy<1.14.0,>=1.7.0 in /usr/local/lib/python3.12/dist-packages (from gensim) (1.13.1)\n",
            "Requirement already satisfied: smart-open>=1.8.1 in /usr/local/lib/python3.12/dist-packages (from gensim) (7.3.0.post1)\n",
            "Requirement already satisfied: wrapt in /usr/local/lib/python3.12/dist-packages (from smart-open>=1.8.1->gensim) (1.17.3)\n"
          ]
        }
      ]
    },
    {
      "cell_type": "code",
      "execution_count": null,
      "metadata": {
        "colab": {
          "base_uri": "https://localhost:8080/"
        },
        "id": "Qeo-eYnB4jCE",
        "outputId": "348184f4-9b44-4a4a-92b4-df26b73a4325"
      },
      "outputs": [
        {
          "output_type": "stream",
          "name": "stderr",
          "text": [
            "[nltk_data] Downloading package punkt_tab to /root/nltk_data...\n",
            "[nltk_data]   Package punkt_tab is already up-to-date!\n"
          ]
        },
        {
          "output_type": "execute_result",
          "data": {
            "text/plain": [
              "True"
            ]
          },
          "metadata": {},
          "execution_count": 3
        }
      ],
      "source": [
        "# Carga de librerías\n",
        "import re\n",
        "import string\n",
        "import warnings\n",
        "from collections import defaultdict\n",
        "\n",
        "import numpy as np\n",
        "import pandas as pd\n",
        "from sklearn.feature_extraction.text import TfidfVectorizer\n",
        "from sklearn.model_selection import train_test_split, StratifiedKFold\n",
        "from sklearn.naive_bayes import MultinomialNB\n",
        "from sklearn.ensemble import RandomForestClassifier\n",
        "from sklearn.metrics import classification_report, confusion_matrix, precision_recall_fscore_support\n",
        "from sklearn.preprocessing import LabelEncoder\n",
        "import matplotlib.pyplot as plt\n",
        "import seaborn as sns\n",
        "\n",
        "# nltk\n",
        "import nltk\n",
        "from nltk.corpus import stopwords\n",
        "from nltk.stem import SnowballStemmer\n",
        "\n",
        "# Recursos de NLTK\n",
        "warnings.filterwarnings(\"ignore\")\n",
        "nltk.download('punkt', quiet=True)\n",
        "nltk.download('punkt_tab')\n",
        "nltk.download('stopwords', quiet=True)\n",
        "nltk.download('wordnet', quiet=True)\n",
        "nltk.download('omw-1.4', quiet=True)\n"
      ]
    },
    {
      "cell_type": "markdown",
      "source": [
        "**CARGA DE DATASET CON EVALUACIONES MÉDICAS**"
      ],
      "metadata": {
        "id": "JkUhfsH_tjnp"
      }
    },
    {
      "cell_type": "markdown",
      "source": [
        "- El set original para la actividad contenía 200 evaluaciones, se decidió generar más con ayuda de IA hasta la cantidad de 455 para crear un modelo basado en más datos. Se crearon con el criterio de variedad lingüistica, ambigüedad de términos y correlaciones rotas (contexto completo necesario), esto con el fin de crear variedad y complejidad a los modelos."
      ],
      "metadata": {
        "id": "JfrfUi5ghfxo"
      }
    },
    {
      "cell_type": "code",
      "source": [
        "# Cargar el dataset desde el archivo CSV proporcionado\n",
        "df = pd.read_csv('MLM8 - EVALUACIÓN MODULAR dataset.csv')\n",
        "df.info()"
      ],
      "metadata": {
        "colab": {
          "base_uri": "https://localhost:8080/"
        },
        "id": "gzR1amz96n6z",
        "outputId": "885579ea-cf3f-44ee-85b0-bb99fd14eb57"
      },
      "execution_count": null,
      "outputs": [
        {
          "output_type": "stream",
          "name": "stdout",
          "text": [
            "<class 'pandas.core.frame.DataFrame'>\n",
            "RangeIndex: 455 entries, 0 to 454\n",
            "Data columns (total 5 columns):\n",
            " #   Column         Non-Null Count  Dtype \n",
            "---  ------         --------------  ----- \n",
            " 0   texto_clinico  455 non-null    object\n",
            " 1   edad           455 non-null    int64 \n",
            " 2   genero         455 non-null    object\n",
            " 3   afeccion       455 non-null    object\n",
            " 4   gravedad       455 non-null    object\n",
            "dtypes: int64(1), object(4)\n",
            "memory usage: 17.9+ KB\n"
          ]
        }
      ]
    },
    {
      "cell_type": "code",
      "source": [
        "# Análisis exploratorio inicial\n",
        "print(\"\\nRevisión inicial\")\n",
        "print(f\"Número total de registros: {len(df)}\")\n",
        "print(f\"Número de variables: {df.shape[1]}\")\n",
        "print(\"\\nDistribución de la gravedad:\")\n",
        "print(df['gravedad'].value_counts())\n",
        "print(\"\\nDistribución por género:\")\n",
        "print(df['genero'].value_counts())\n",
        "print(\"\\nDistribución de afecciones:\")\n",
        "print(df['afeccion'].value_counts())"
      ],
      "metadata": {
        "colab": {
          "base_uri": "https://localhost:8080/"
        },
        "id": "2t407gek6usQ",
        "outputId": "34f782fe-b661-4126-ac6b-9938ec7db89b"
      },
      "execution_count": null,
      "outputs": [
        {
          "output_type": "stream",
          "name": "stdout",
          "text": [
            "\n",
            "Revisión inicial\n",
            "Número total de registros: 455\n",
            "Número de variables: 5\n",
            "\n",
            "Distribución de la gravedad:\n",
            "gravedad\n",
            "moderado    200\n",
            "severo      144\n",
            "leve        111\n",
            "Name: count, dtype: int64\n",
            "\n",
            "Distribución por género:\n",
            "genero\n",
            "M    256\n",
            "F    199\n",
            "Name: count, dtype: int64\n",
            "\n",
            "Distribución de afecciones:\n",
            "afeccion\n",
            "gastroenteritis               34\n",
            "resfriado común               33\n",
            "infarto agudo de miocardio    32\n",
            "bronquitis                    32\n",
            "hipertensión leve             31\n",
            "diabetes tipo 2               30\n",
            "asma                          28\n",
            "migraña                       26\n",
            "insuficiencia renal aguda     25\n",
            "neumonía                      23\n",
            "fractura de muñeca            22\n",
            "dolor lumbar                  18\n",
            "cefalea tensional             13\n",
            "esguince de tobillo           13\n",
            "dolor lumbar crónico          13\n",
            "apendicitis aguda             13\n",
            "ACV isquémico                 13\n",
            "sepsis                        13\n",
            "fractura expuesta             13\n",
            "infección urinaria            10\n",
            "crisis de ansiedad            10\n",
            "neumonía grave                10\n",
            "Name: count, dtype: int64\n"
          ]
        }
      ]
    },
    {
      "cell_type": "markdown",
      "source": [
        "**GRÁFICA DE DISTRIBUCIÓN DE LAS VARIABLES**"
      ],
      "metadata": {
        "id": "EVRWwosKqt1C"
      }
    },
    {
      "cell_type": "code",
      "source": [
        "# Configuración visual para los gráficos\n",
        "sns.set_theme(style=\"whitegrid\")\n",
        "\n",
        "# Crear una figura para los gráficos\n",
        "plt.figure(figsize=(14, 4))\n",
        "\n",
        "# 1. Gráfico de distribución de la variable objetivo 'gravedad'\n",
        "plt.subplot(1, 3, 1)\n",
        "sns.countplot(x='gravedad', data=df, order=['leve', 'moderado', 'severo'], palette=\"viridis\")\n",
        "plt.title('Distribución de Niveles de Gravedad')\n",
        "plt.xlabel('Gravedad')\n",
        "plt.ylabel('Cantidad de Casos')\n",
        "\n",
        "# 2. Gráfico de distribución por 'genero'\n",
        "plt.subplot(1, 3, 2)\n",
        "sns.countplot(x='genero', data=df, palette=\"plasma\")\n",
        "plt.title('Distribución por Género')\n",
        "plt.xlabel('Género')\n",
        "plt.ylabel('Cantidad de Casos')\n",
        "\n",
        "# 3. Gráfico de distribución de 'edad'\n",
        "plt.subplot(1, 3, 3)\n",
        "sns.histplot(df['edad'], kde=True, bins=20, color='blue')\n",
        "plt.title('Distribución de Edad')\n",
        "plt.xlabel('Edad')\n",
        "plt.ylabel('Frecuencia')\n",
        "\n",
        "plt.tight_layout()\n",
        "plt.show()\n",
        "\n",
        "# Análisis de la distribución de gravedad por género\n",
        "plt.figure(figsize=(7, 5))\n",
        "sns.countplot(x='gravedad', hue='genero', data=df, order=['leve', 'moderado', 'severo'])\n",
        "plt.title('Distribución de Gravedad por Género')\n",
        "plt.show()"
      ],
      "metadata": {
        "colab": {
          "base_uri": "https://localhost:8080/",
          "height": 880
        },
        "id": "9-uCXSHlGZvF",
        "outputId": "6c841d53-fb7c-4fde-d8d2-ce5776a585a8"
      },
      "execution_count": null,
      "outputs": [
        {
          "output_type": "display_data",
          "data": {
            "text/plain": [
              "<Figure size 1400x400 with 3 Axes>"
            ],
            "image/png": "[encoded data removed]"
          },
          "metadata": {}
        },
        {
          "output_type": "display_data",
          "data": {
            "text/plain": [
              "<Figure size 700x500 with 1 Axes>"
            ],
            "image/png": "[encoded data removed]"
          },
          "metadata": {}
        }
      ]
    },
    {
      "cell_type": "markdown",
      "source": [
        "**PREPROCESAMIENTO NLP**"
      ],
      "metadata": {
        "id": "pKCmrifG6xxO"
      }
    },
    {
      "cell_type": "code",
      "source": [
        "# Preprocesamiento de texto\n",
        "stop_words = set(stopwords.words('spanish'))  # usar español\n",
        "lemmatizer = SnowballStemmer('spanish')\n",
        "\n",
        "def clean_text(text):\n",
        "    if pd.isna(text):\n",
        "        return \"\"\n",
        "    # minusculas\n",
        "    text = text.lower()\n",
        "    # reemplazar urls, numeros y signos\n",
        "    text = re.sub(r\"http\\S+|www\\.\\S+\", \" \", text)\n",
        "    text = re.sub(r\"\\d+\", \" \", text)\n",
        "    # quitar puntuacion\n",
        "    text = text.translate(str.maketrans(\"\", \"\", string.punctuation))\n",
        "    # normalizar espacios\n",
        "    text = re.sub(r\"\\s+\", \" \", text).strip()\n",
        "    return text\n",
        "\n",
        "def tokenize_and_lemmatize(text):\n",
        "    # tokenizacion simple con nltk\n",
        "    tokens = nltk.word_tokenize(text, language='spanish')\n",
        "    # filtrar stopwords y tokens pequeños\n",
        "    toks = [t for t in tokens if t not in stop_words and len(t) > 1]\n",
        "\n",
        "    lemmas = [lemmatizer.stem(t) for t in toks]\n",
        "    return \" \".join(lemmas)\n",
        "\n",
        "# Aplicar limpieza y tokenización/lemmatización\n",
        "df['texto_limpio'] = df['texto_clinico'].astype(str).apply(clean_text)\n",
        "df['texto_proc'] = df['texto_limpio'].apply(tokenize_and_lemmatize)\n",
        "\n",
        "print(\"Ejemplos procesados:\")\n",
        "print(df[['texto_clinico', 'texto_proc']].head(5))"
      ],
      "metadata": {
        "colab": {
          "base_uri": "https://localhost:8080/"
        },
        "id": "OgWhacn062pD",
        "outputId": "4a6fe6dd-7b8a-42ab-e0ce-d21c8ea988ca"
      },
      "execution_count": null,
      "outputs": [
        {
          "output_type": "stream",
          "name": "stdout",
          "text": [
            "Ejemplos procesados:\n",
            "                                       texto_clinico  \\\n",
            "0  El paciente presenta síntomas leves como dolor...   \n",
            "1  Consulta por hipertensión leve sin signos de a...   \n",
            "2  Evolución rápida del cuadro clínico, compatibl...   \n",
            "3  El paciente presenta síntomas leves como tos y...   \n",
            "4  El cuadro clínico indica asma, con síntomas co...   \n",
            "\n",
            "                                          texto_proc  \n",
            "0  pacient present sintom lev dolor cabez dificul...  \n",
            "1                consult hipertension lev sign alarm  \n",
            "2  evolu rap cuadr clinic compat infart agud mioc...  \n",
            "3               pacient present sintom lev tos fatig  \n",
            "4           cuadr clinic indic asma sintom tos fiebr  \n"
          ]
        }
      ]
    },
    {
      "cell_type": "code",
      "source": [
        "# Revisión DataFrame\n",
        "df"
      ],
      "metadata": {
        "colab": {
          "base_uri": "https://localhost:8080/",
          "height": 424
        },
        "id": "AJa9IGuhdoHw",
        "outputId": "4d303940-5888-4d3a-cda9-43a0cc92765a"
      },
      "execution_count": null,
      "outputs": [
        {
          "output_type": "execute_result",
          "data": {
            "text/plain": [
              "                                         texto_clinico  edad genero  \\\n",
              "0    El paciente presenta síntomas leves como dolor...    43      M   \n",
              "1    Consulta por hipertensión leve sin signos de a...    34      F   \n",
              "2    Evolución rápida del cuadro clínico, compatibl...    34      M   \n",
              "3    El paciente presenta síntomas leves como tos y...    58      M   \n",
              "4    El cuadro clínico indica asma, con síntomas co...    45      M   \n",
              "..                                                 ...   ...    ...   \n",
              "450  Prostatitis aguda. Causa de infección urinaria...    33      M   \n",
              "451   Fractura en tallo verde en la muñeca de un niño.    10      M   \n",
              "452  Ansiedad social. Miedo intenso a situaciones s...    26      F   \n",
              "453  Síndrome de dificultad respiratoria del adulto...    75      M   \n",
              "454  Insuficiencia renal crónica agudizada. Pacient...    73      M   \n",
              "\n",
              "                       afeccion  gravedad  \\\n",
              "0               resfriado común      leve   \n",
              "1             hipertensión leve      leve   \n",
              "2    infarto agudo de miocardio    severo   \n",
              "3               gastroenteritis      leve   \n",
              "4                          asma  moderado   \n",
              "..                          ...       ...   \n",
              "450          infección urinaria  moderado   \n",
              "451          fractura de muñeca  moderado   \n",
              "452          crisis de ansiedad  moderado   \n",
              "453              neumonía grave    severo   \n",
              "454   insuficiencia renal aguda    severo   \n",
              "\n",
              "                                          texto_limpio  \\\n",
              "0    el paciente presenta síntomas leves como dolor...   \n",
              "1    consulta por hipertensión leve sin signos de a...   \n",
              "2    evolución rápida del cuadro clínico compatible...   \n",
              "3    el paciente presenta síntomas leves como tos y...   \n",
              "4    el cuadro clínico indica asma con síntomas com...   \n",
              "..                                                 ...   \n",
              "450  prostatitis aguda causa de infección urinaria ...   \n",
              "451    fractura en tallo verde en la muñeca de un niño   \n",
              "452  ansiedad social miedo intenso a situaciones so...   \n",
              "453  síndrome de dificultad respiratoria del adulto...   \n",
              "454  insuficiencia renal crónica agudizada paciente...   \n",
              "\n",
              "                                            texto_proc  \n",
              "0    pacient present sintom lev dolor cabez dificul...  \n",
              "1                  consult hipertension lev sign alarm  \n",
              "2    evolu rap cuadr clinic compat infart agud mioc...  \n",
              "3                 pacient present sintom lev tos fatig  \n",
              "4             cuadr clinic indic asma sintom tos fiebr  \n",
              "..                                                 ...  \n",
              "450  prostatitis agud caus infeccion urinari varon jov  \n",
              "451                        fractur tall verd muñec niñ  \n",
              "452         ansied social mied intens situacion social  \n",
              "453  sindrom dificult respiratori adult sdra neumon...  \n",
              "454  insuficient renal cronic agudiz pacient dañ re...  \n",
              "\n",
              "[455 rows x 7 columns]"
            ],
            "text/html": [
              "\n",
              "  <div id=\"df-5ffa08b5-b26f-43dd-9c7f-2cc887b592f6\" class=\"colab-df-container\">\n",
              "    <div>\n",
              "<style scoped>\n",
              "    .dataframe tbody tr th:only-of-type {\n",
              "        vertical-align: middle;\n",
              "    }\n",
              "\n",
              "    .dataframe tbody tr th {\n",
              "        vertical-align: top;\n",
              "    }\n",
              "\n",
              "    .dataframe thead th {\n",
              "        text-align: right;\n",
              "    }\n",
              "</style>\n",
              "<table border=\"1\" class=\"dataframe\">\n",
              "  <thead>\n",
              "    <tr style=\"text-align: right;\">\n",
              "      <th></th>\n",
              "      <th>texto_clinico</th>\n",
              "      <th>edad</th>\n",
              "      <th>genero</th>\n",
              "      <th>afeccion</th>\n",
              "      <th>gravedad</th>\n",
              "      <th>texto_limpio</th>\n",
              "      <th>texto_proc</th>\n",
              "    </tr>\n",
              "  </thead>\n",
              "  <tbody>\n",
              "    <tr>\n",
              "      <th>0</th>\n",
              "      <td>El paciente presenta síntomas leves como dolor...</td>\n",
              "      <td>43</td>\n",
              "      <td>M</td>\n",
              "      <td>resfriado común</td>\n",
              "      <td>leve</td>\n",
              "      <td>el paciente presenta síntomas leves como dolor...</td>\n",
              "      <td>pacient present sintom lev dolor cabez dificul...</td>\n",
              "    </tr>\n",
              "    <tr>\n",
              "      <th>1</th>\n",
              "      <td>Consulta por hipertensión leve sin signos de a...</td>\n",
              "      <td>34</td>\n",
              "      <td>F</td>\n",
              "      <td>hipertensión leve</td>\n",
              "      <td>leve</td>\n",
              "      <td>consulta por hipertensión leve sin signos de a...</td>\n",
              "      <td>consult hipertension lev sign alarm</td>\n",
              "    </tr>\n",
              "    <tr>\n",
              "      <th>2</th>\n",
              "      <td>Evolución rápida del cuadro clínico, compatibl...</td>\n",
              "      <td>34</td>\n",
              "      <td>M</td>\n",
              "      <td>infarto agudo de miocardio</td>\n",
              "      <td>severo</td>\n",
              "      <td>evolución rápida del cuadro clínico compatible...</td>\n",
              "      <td>evolu rap cuadr clinic compat infart agud mioc...</td>\n",
              "    </tr>\n",
              "    <tr>\n",
              "      <th>3</th>\n",
              "      <td>El paciente presenta síntomas leves como tos y...</td>\n",
              "      <td>58</td>\n",
              "      <td>M</td>\n",
              "      <td>gastroenteritis</td>\n",
              "      <td>leve</td>\n",
              "      <td>el paciente presenta síntomas leves como tos y...</td>\n",
              "      <td>pacient present sintom lev tos fatig</td>\n",
              "    </tr>\n",
              "    <tr>\n",
              "      <th>4</th>\n",
              "      <td>El cuadro clínico indica asma, con síntomas co...</td>\n",
              "      <td>45</td>\n",
              "      <td>M</td>\n",
              "      <td>asma</td>\n",
              "      <td>moderado</td>\n",
              "      <td>el cuadro clínico indica asma con síntomas com...</td>\n",
              "      <td>cuadr clinic indic asma sintom tos fiebr</td>\n",
              "    </tr>\n",
              "    <tr>\n",
              "      <th>...</th>\n",
              "      <td>...</td>\n",
              "      <td>...</td>\n",
              "      <td>...</td>\n",
              "      <td>...</td>\n",
              "      <td>...</td>\n",
              "      <td>...</td>\n",
              "      <td>...</td>\n",
              "    </tr>\n",
              "    <tr>\n",
              "      <th>450</th>\n",
              "      <td>Prostatitis aguda. Causa de infección urinaria...</td>\n",
              "      <td>33</td>\n",
              "      <td>M</td>\n",
              "      <td>infección urinaria</td>\n",
              "      <td>moderado</td>\n",
              "      <td>prostatitis aguda causa de infección urinaria ...</td>\n",
              "      <td>prostatitis agud caus infeccion urinari varon jov</td>\n",
              "    </tr>\n",
              "    <tr>\n",
              "      <th>451</th>\n",
              "      <td>Fractura en tallo verde en la muñeca de un niño.</td>\n",
              "      <td>10</td>\n",
              "      <td>M</td>\n",
              "      <td>fractura de muñeca</td>\n",
              "      <td>moderado</td>\n",
              "      <td>fractura en tallo verde en la muñeca de un niño</td>\n",
              "      <td>fractur tall verd muñec niñ</td>\n",
              "    </tr>\n",
              "    <tr>\n",
              "      <th>452</th>\n",
              "      <td>Ansiedad social. Miedo intenso a situaciones s...</td>\n",
              "      <td>26</td>\n",
              "      <td>F</td>\n",
              "      <td>crisis de ansiedad</td>\n",
              "      <td>moderado</td>\n",
              "      <td>ansiedad social miedo intenso a situaciones so...</td>\n",
              "      <td>ansied social mied intens situacion social</td>\n",
              "    </tr>\n",
              "    <tr>\n",
              "      <th>453</th>\n",
              "      <td>Síndrome de dificultad respiratoria del adulto...</td>\n",
              "      <td>75</td>\n",
              "      <td>M</td>\n",
              "      <td>neumonía grave</td>\n",
              "      <td>severo</td>\n",
              "      <td>síndrome de dificultad respiratoria del adulto...</td>\n",
              "      <td>sindrom dificult respiratori adult sdra neumon...</td>\n",
              "    </tr>\n",
              "    <tr>\n",
              "      <th>454</th>\n",
              "      <td>Insuficiencia renal crónica agudizada. Pacient...</td>\n",
              "      <td>73</td>\n",
              "      <td>M</td>\n",
              "      <td>insuficiencia renal aguda</td>\n",
              "      <td>severo</td>\n",
              "      <td>insuficiencia renal crónica agudizada paciente...</td>\n",
              "      <td>insuficient renal cronic agudiz pacient dañ re...</td>\n",
              "    </tr>\n",
              "  </tbody>\n",
              "</table>\n",
              "<p>455 rows × 7 columns</p>\n",
              "</div>\n",
              "    <div class=\"colab-df-buttons\">\n",
              "\n",
              "  <div class=\"colab-df-container\">\n",
              "    <button class=\"colab-df-convert\" onclick=\"convertToInteractive('df-5ffa08b5-b26f-43dd-9c7f-2cc887b592f6')\"\n",
              "            title=\"Convert this dataframe to an interactive table.\"\n",
              "            style=\"display:none;\">\n",
              "\n",
              "  <svg xmlns=\"http://www.w3.org/2000/svg\" height=\"24px\" viewBox=\"0 -960 960 960\">\n",
              "    <path d=\"M120-120v-720h720v720H120Zm60-500h600v-160H180v160Zm220 220h160v-160H400v160Zm0 220h160v-160H400v160ZM180-400h160v-160H180v160Zm440 0h160v-160H620v160ZM180-180h160v-160H180v160Zm440 0h160v-160H620v160Z\"/>\n",
              "  </svg>\n",
              "    </button>\n",
              "\n",
              "  <style>\n",
              "    .colab-df-container {\n",
              "      display:flex;\n",
              "      gap: 12px;\n",
              "    }\n",
              "\n",
              "    .colab-df-convert {\n",
              "      background-color: #E8F0FE;\n",
              "      border: none;\n",
              "      border-radius: 50%;\n",
              "      cursor: pointer;\n",
              "      display: none;\n",
              "      fill: #1967D2;\n",
              "      height: 32px;\n",
              "      padding: 0 0 0 0;\n",
              "      width: 32px;\n",
              "    }\n",
              "\n",
              "    .colab-df-convert:hover {\n",
              "      background-color: #E2EBFA;\n",
              "      box-shadow: 0px 1px 2px rgba(60, 64, 67, 0.3), 0px 1px 3px 1px rgba(60, 64, 67, 0.15);\n",
              "      fill: #174EA6;\n",
              "    }\n",
              "\n",
              "    .colab-df-buttons div {\n",
              "      margin-bottom: 4px;\n",
              "    }\n",
              "\n",
              "    [theme=dark] .colab-df-convert {\n",
              "      background-color: #3B4455;\n",
              "      fill: #D2E3FC;\n",
              "    }\n",
              "\n",
              "    [theme=dark] .colab-df-convert:hover {\n",
              "      background-color: #434B5C;\n",
              "      box-shadow: 0px 1px 3px 1px rgba(0, 0, 0, 0.15);\n",
              "      filter: drop-shadow(0px 1px 2px rgba(0, 0, 0, 0.3));\n",
              "      fill: #FFFFFF;\n",
              "    }\n",
              "  </style>\n",
              "\n",
              "    <script>\n",
              "      const buttonEl =\n",
              "        document.querySelector('#df-5ffa08b5-b26f-43dd-9c7f-2cc887b592f6 button.colab-df-convert');\n",
              "      buttonEl.style.display =\n",
              "        google.colab.kernel.accessAllowed ? 'block' : 'none';\n",
              "\n",
              "      async function convertToInteractive(key) {\n",
              "        const element = document.querySelector('#df-5ffa08b5-b26f-43dd-9c7f-2cc887b592f6');\n",
              "        const dataTable =\n",
              "          await google.colab.kernel.invokeFunction('convertToInteractive',\n",
              "                                                    [key], {});\n",
              "        if (!dataTable) return;\n",
              "\n",
              "        const docLinkHtml = 'Like what you see? Visit the ' +\n",
              "          '<a target=\"_blank\" href=https://colab.research.google.com/notebooks/data_table.ipynb>data table notebook</a>'\n",
              "          + ' to learn more about interactive tables.';\n",
              "        element.innerHTML = '';\n",
              "        dataTable['output_type'] = 'display_data';\n",
              "        await google.colab.output.renderOutput(dataTable, element);\n",
              "        const docLink = document.createElement('div');\n",
              "        docLink.innerHTML = docLinkHtml;\n",
              "        element.appendChild(docLink);\n",
              "      }\n",
              "    </script>\n",
              "  </div>\n",
              "\n",
              "\n",
              "    <div id=\"df-94e3bd37-87b2-4a99-bea4-2824d412fa37\">\n",
              "      <button class=\"colab-df-quickchart\" onclick=\"quickchart('df-94e3bd37-87b2-4a99-bea4-2824d412fa37')\"\n",
              "                title=\"Suggest charts\"\n",
              "                style=\"display:none;\">\n",
              "\n",
              "<svg xmlns=\"http://www.w3.org/2000/svg\" height=\"24px\"viewBox=\"0 0 24 24\"\n",
              "     width=\"24px\">\n",
              "    <g>\n",
              "        <path d=\"M19 3H5c-1.1 0-2 .9-2 2v14c0 1.1.9 2 2 2h14c1.1 0 2-.9 2-2V5c0-1.1-.9-2-2-2zM9 17H7v-7h2v7zm4 0h-2V7h2v10zm4 0h-2v-4h2v4z\"/>\n",
              "    </g>\n",
              "</svg>\n",
              "      </button>\n",
              "\n",
              "<style>\n",
              "  .colab-df-quickchart {\n",
              "      --bg-color: #E8F0FE;\n",
              "      --fill-color: #1967D2;\n",
              "      --hover-bg-color: #E2EBFA;\n",
              "      --hover-fill-color: #174EA6;\n",
              "      --disabled-fill-color: #AAA;\n",
              "      --disabled-bg-color: #DDD;\n",
              "  }\n",
              "\n",
              "  [theme=dark] .colab-df-quickchart {\n",
              "      --bg-color: #3B4455;\n",
              "      --fill-color: #D2E3FC;\n",
              "      --hover-bg-color: #434B5C;\n",
              "      --hover-fill-color: #FFFFFF;\n",
              "      --disabled-bg-color: #3B4455;\n",
              "      --disabled-fill-color: #666;\n",
              "  }\n",
              "\n",
              "  .colab-df-quickchart {\n",
              "    background-color: var(--bg-color);\n",
              "    border: none;\n",
              "    border-radius: 50%;\n",
              "    cursor: pointer;\n",
              "    display: none;\n",
              "    fill: var(--fill-color);\n",
              "    height: 32px;\n",
              "    padding: 0;\n",
              "    width: 32px;\n",
              "  }\n",
              "\n",
              "  .colab-df-quickchart:hover {\n",
              "    background-color: var(--hover-bg-color);\n",
              "    box-shadow: 0 1px 2px rgba(60, 64, 67, 0.3), 0 1px 3px 1px rgba(60, 64, 67, 0.15);\n",
              "    fill: var(--button-hover-fill-color);\n",
              "  }\n",
              "\n",
              "  .colab-df-quickchart-complete:disabled,\n",
              "  .colab-df-quickchart-complete:disabled:hover {\n",
              "    background-color: var(--disabled-bg-color);\n",
              "    fill: var(--disabled-fill-color);\n",
              "    box-shadow: none;\n",
              "  }\n",
              "\n",
              "  .colab-df-spinner {\n",
              "    border: 2px solid var(--fill-color);\n",
              "    border-color: transparent;\n",
              "    border-bottom-color: var(--fill-color);\n",
              "    animation:\n",
              "      spin 1s steps(1) infinite;\n",
              "  }\n",
              "\n",
              "  @keyframes spin {\n",
              "    0% {\n",
              "      border-color: transparent;\n",
              "      border-bottom-color: var(--fill-color);\n",
              "      border-left-color: var(--fill-color);\n",
              "    }\n",
              "    20% {\n",
              "      border-color: transparent;\n",
              "      border-left-color: var(--fill-color);\n",
              "      border-top-color: var(--fill-color);\n",
              "    }\n",
              "    30% {\n",
              "      border-color: transparent;\n",
              "      border-left-color: var(--fill-color);\n",
              "      border-top-color: var(--fill-color);\n",
              "      border-right-color: var(--fill-color);\n",
              "    }\n",
              "    40% {\n",
              "      border-color: transparent;\n",
              "      border-right-color: var(--fill-color);\n",
              "      border-top-color: var(--fill-color);\n",
              "    }\n",
              "    60% {\n",
              "      border-color: transparent;\n",
              "      border-right-color: var(--fill-color);\n",
              "    }\n",
              "    80% {\n",
              "      border-color: transparent;\n",
              "      border-right-color: var(--fill-color);\n",
              "      border-bottom-color: var(--fill-color);\n",
              "    }\n",
              "    90% {\n",
              "      border-color: transparent;\n",
              "      border-bottom-color: var(--fill-color);\n",
              "    }\n",
              "  }\n",
              "</style>\n",
              "\n",
              "      <script>\n",
              "        async function quickchart(key) {\n",
              "          const quickchartButtonEl =\n",
              "            document.querySelector('#' + key + ' button');\n",
              "          quickchartButtonEl.disabled = true;  // To prevent multiple clicks.\n",
              "          quickchartButtonEl.classList.add('colab-df-spinner');\n",
              "          try {\n",
              "            const charts = await google.colab.kernel.invokeFunction(\n",
              "                'suggestCharts', [key], {});\n",
              "          } catch (error) {\n",
              "            console.error('Error during call to suggestCharts:', error);\n",
              "          }\n",
              "          quickchartButtonEl.classList.remove('colab-df-spinner');\n",
              "          quickchartButtonEl.classList.add('colab-df-quickchart-complete');\n",
              "        }\n",
              "        (() => {\n",
              "          let quickchartButtonEl =\n",
              "            document.querySelector('#df-94e3bd37-87b2-4a99-bea4-2824d412fa37 button');\n",
              "          quickchartButtonEl.style.display =\n",
              "            google.colab.kernel.accessAllowed ? 'block' : 'none';\n",
              "        })();\n",
              "      </script>\n",
              "    </div>\n",
              "\n",
              "  <div id=\"id_b212cd45-bf38-4678-85c9-6acf4b0dfa6d\">\n",
              "    <style>\n",
              "      .colab-df-generate {\n",
              "        background-color: #E8F0FE;\n",
              "        border: none;\n",
              "        border-radius: 50%;\n",
              "        cursor: pointer;\n",
              "        display: none;\n",
              "        fill: #1967D2;\n",
              "        height: 32px;\n",
              "        padding: 0 0 0 0;\n",
              "        width: 32px;\n",
              "      }\n",
              "\n",
              "      .colab-df-generate:hover {\n",
              "        background-color: #E2EBFA;\n",
              "        box-shadow: 0px 1px 2px rgba(60, 64, 67, 0.3), 0px 1px 3px 1px rgba(60, 64, 67, 0.15);\n",
              "        fill: #174EA6;\n",
              "      }\n",
              "\n",
              "      [theme=dark] .colab-df-generate {\n",
              "        background-color: #3B4455;\n",
              "        fill: #D2E3FC;\n",
              "      }\n",
              "\n",
              "      [theme=dark] .colab-df-generate:hover {\n",
              "        background-color: #434B5C;\n",
              "        box-shadow: 0px 1px 3px 1px rgba(0, 0, 0, 0.15);\n",
              "        filter: drop-shadow(0px 1px 2px rgba(0, 0, 0, 0.3));\n",
              "        fill: #FFFFFF;\n",
              "      }\n",
              "    </style>\n",
              "    <button class=\"colab-df-generate\" onclick=\"generateWithVariable('df')\"\n",
              "            title=\"Generate code using this dataframe.\"\n",
              "            style=\"display:none;\">\n",
              "\n",
              "  <svg xmlns=\"http://www.w3.org/2000/svg\" height=\"24px\"viewBox=\"0 0 24 24\"\n",
              "       width=\"24px\">\n",
              "    <path d=\"M7,19H8.4L18.45,9,17,7.55,7,17.6ZM5,21V16.75L18.45,3.32a2,2,0,0,1,2.83,0l1.4,1.43a1.91,1.91,0,0,1,.58,1.4,1.91,1.91,0,0,1-.58,1.4L9.25,21ZM18.45,9,17,7.55Zm-12,3A5.31,5.31,0,0,0,4.9,8.1,5.31,5.31,0,0,0,1,6.5,5.31,5.31,0,0,0,4.9,4.9,5.31,5.31,0,0,0,6.5,1,5.31,5.31,0,0,0,8.1,4.9,5.31,5.31,0,0,0,12,6.5,5.46,5.46,0,0,0,6.5,12Z\"/>\n",
              "  </svg>\n",
              "    </button>\n",
              "    <script>\n",
              "      (() => {\n",
              "      const buttonEl =\n",
              "        document.querySelector('#id_b212cd45-bf38-4678-85c9-6acf4b0dfa6d button.colab-df-generate');\n",
              "      buttonEl.style.display =\n",
              "        google.colab.kernel.accessAllowed ? 'block' : 'none';\n",
              "\n",
              "      buttonEl.onclick = () => {\n",
              "        google.colab.notebook.generateWithVariable('df');\n",
              "      }\n",
              "      })();\n",
              "    </script>\n",
              "  </div>\n",
              "\n",
              "    </div>\n",
              "  </div>\n"
            ],
            "application/vnd.google.colaboratory.intrinsic+json": {
              "type": "dataframe",
              "variable_name": "df",
              "summary": "{\n  \"name\": \"df\",\n  \"rows\": 455,\n  \"fields\": [\n    {\n      \"column\": \"texto_clinico\",\n      \"properties\": {\n        \"dtype\": \"string\",\n        \"num_unique_values\": 370,\n        \"samples\": [\n          \"Insuficiencia renal aguda prerrenal por deshidrataci\\u00f3n severa.\",\n          \"Evoluci\\u00f3n r\\u00e1pida del cuadro cl\\u00ednico, compatible con fractura de mu\\u00f1eca.\",\n          \"No se observan complicaciones severas. Se recomienda reposo domiciliario.\"\n        ],\n        \"semantic_type\": \"\",\n        \"description\": \"\"\n      }\n    },\n    {\n      \"column\": \"edad\",\n      \"properties\": {\n        \"dtype\": \"number\",\n        \"std\": 19,\n        \"min\": 5,\n        \"max\": 85,\n        \"num_unique_values\": 73,\n        \"samples\": [\n          57,\n          16,\n          67\n        ],\n        \"semantic_type\": \"\",\n        \"description\": \"\"\n      }\n    },\n    {\n      \"column\": \"genero\",\n      \"properties\": {\n        \"dtype\": \"category\",\n        \"num_unique_values\": 2,\n        \"samples\": [\n          \"F\",\n          \"M\"\n        ],\n        \"semantic_type\": \"\",\n        \"description\": \"\"\n      }\n    },\n    {\n      \"column\": \"afeccion\",\n      \"properties\": {\n        \"dtype\": \"category\",\n        \"num_unique_values\": 22,\n        \"samples\": [\n          \"resfriado com\\u00fan\",\n          \"esguince de tobillo\"\n        ],\n        \"semantic_type\": \"\",\n        \"description\": \"\"\n      }\n    },\n    {\n      \"column\": \"gravedad\",\n      \"properties\": {\n        \"dtype\": \"category\",\n        \"num_unique_values\": 3,\n        \"samples\": [\n          \"leve\",\n          \"severo\"\n        ],\n        \"semantic_type\": \"\",\n        \"description\": \"\"\n      }\n    },\n    {\n      \"column\": \"texto_limpio\",\n      \"properties\": {\n        \"dtype\": \"string\",\n        \"num_unique_values\": 357,\n        \"samples\": [\n          \"congesti\\u00f3n y dolor de garganta s\\u00edntomas leves\",\n          \"consulta por resfriado com\\u00fan sin signos de alarma\"\n        ],\n        \"semantic_type\": \"\",\n        \"description\": \"\"\n      }\n    },\n    {\n      \"column\": \"texto_proc\",\n      \"properties\": {\n        \"dtype\": \"string\",\n        \"num_unique_values\": 357,\n        \"samples\": [\n          \"congestion dolor gargant sintom lev\",\n          \"consult resfri comun sign alarm\"\n        ],\n        \"semantic_type\": \"\",\n        \"description\": \"\"\n      }\n    }\n  ]\n}"
            }
          },
          "metadata": {},
          "execution_count": 9
        }
      ]
    },
    {
      "cell_type": "markdown",
      "source": [
        "**División inicial en entrenamiento y prueba (estratificada)**"
      ],
      "metadata": {
        "id": "KgOLWBuP65wh"
      }
    },
    {
      "cell_type": "code",
      "source": [
        "# Dividir el texto preprocesado y las etiquetas\n",
        "X_train_text, X_test_text, y_train, y_test = train_test_split(\n",
        "    df['texto_proc'],\n",
        "    df['gravedad'],\n",
        "    test_size=0.3,\n",
        "    random_state=40,\n",
        "    stratify=df['gravedad'] # Usar stratify para mantener la proporción de clases\n",
        ")"
      ],
      "metadata": {
        "id": "Y3V_Plpl27S_"
      },
      "execution_count": null,
      "outputs": []
    },
    {
      "cell_type": "markdown",
      "source": [
        "**REPRESENTACIONES TF-IDF Y WORD EMBEDDING**"
      ],
      "metadata": {
        "id": "_IR7yCo-77Tc"
      }
    },
    {
      "cell_type": "markdown",
      "source": [
        " - TF-IDF: Esta técnica convierte el texto en vectores numéricos, asignando un peso a cada palabra según su frecuencia en un documento y su rareza en todo el corpus."
      ],
      "metadata": {
        "id": "lLcO_G9brBLT"
      }
    },
    {
      "cell_type": "code",
      "source": [
        "# Vectorización TF-IDF\n",
        "# Ajustar el vectorizador SÓLO en los datos de entrenamiento ---\n",
        "vectorizer_tfidf = TfidfVectorizer(max_features=1000)\n",
        "\n",
        "# Ajustamos Y transformamos el conjunto de entrenamiento\n",
        "X_train_tfidf = vectorizer_tfidf.fit_transform(X_train_text)\n",
        "X_test_tfidf = vectorizer_tfidf.transform(X_test_text)\n",
        "\n",
        "# Mostrar las dimensiones de la matriz resultante\n",
        "print(\"Dimensiones de la matriz TF-IDF:\", X_train_tfidf.shape)"
      ],
      "metadata": {
        "colab": {
          "base_uri": "https://localhost:8080/"
        },
        "id": "uNLAOYcv7_IO",
        "outputId": "06fe144c-0cc3-4315-c1ae-17661122e086"
      },
      "execution_count": null,
      "outputs": [
        {
          "output_type": "stream",
          "name": "stdout",
          "text": [
            "Dimensiones de la matriz TF-IDF: (318, 676)\n"
          ]
        }
      ]
    },
    {
      "cell_type": "markdown",
      "source": [
        "- Word2Vec: Su objetivo principal es convertir palabras en vectores numéricos de tal forma que las palabras con significados similares tengan vectores cercanos en el espacio vectorial."
      ],
      "metadata": {
        "id": "TTSYNAVTrhQ_"
      }
    },
    {
      "cell_type": "code",
      "source": [
        "# Word2Vec (gensim)\n",
        "from gensim.models import Word2Vec\n",
        "sentences_train = [text.split() for text in X_train_text]\n",
        "w2v_model = Word2Vec(sentences_train, vector_size=100, window=5, min_count=1, workers=4)\n",
        "\n",
        "# Función para crear vectores de documento\n",
        "def document_vector(doc_tokens, model):\n",
        "    doc_vectors = [model.wv[word] for word in doc_tokens if word in model.wv]\n",
        "    if not doc_vectors:\n",
        "        return np.zeros(model.vector_size)\n",
        "    return np.mean(doc_vectors, axis=0)\n",
        "\n",
        "# Crear los vectores de documento para ambos conjuntos\n",
        "X_train_w2v = np.array([document_vector(text.split(), w2v_model) for text in X_train_text])\n",
        "X_test_w2v = np.array([document_vector(text.split(), w2v_model) for text in X_test_text])\n"
      ],
      "metadata": {
        "id": "HkVVSJsB4_JR"
      },
      "execution_count": null,
      "outputs": []
    },
    {
      "cell_type": "code",
      "source": [
        "# Codificación de la variable objetivo\n",
        "\n",
        "le = LabelEncoder()\n",
        "y = le.fit_transform(df['gravedad'])  # 0/1/2 mapping: leve/moderado/severo\n",
        "label_names = le.classes_.tolist()\n",
        "print(\"Labels:\", label_names)"
      ],
      "metadata": {
        "colab": {
          "base_uri": "https://localhost:8080/"
        },
        "id": "NpZL6pxUdXLC",
        "outputId": "80bbe577-fff7-4dff-e486-bc20432b48a3"
      },
      "execution_count": null,
      "outputs": [
        {
          "output_type": "stream",
          "name": "stdout",
          "text": [
            "Labels: ['leve', 'moderado', 'severo']\n"
          ]
        }
      ]
    },
    {
      "cell_type": "markdown",
      "source": [
        "# **MODELOS DE CLASIFICACIÓN**"
      ],
      "metadata": {
        "id": "OLdyGXXdsdve"
      }
    },
    {
      "cell_type": "markdown",
      "source": [
        "- Random Forest + Word2Vec"
      ],
      "metadata": {
        "id": "J04W-BKJspZ5"
      }
    },
    {
      "cell_type": "code",
      "source": [
        "# Entrenar el modelo\n",
        "rf_model = RandomForestClassifier(n_estimators=50, random_state=42)\n",
        "rf_model.fit(X_train_w2v, y_train)\n",
        "\n",
        "# Evaluar en el conjunto de prueba\n",
        "y_pred_rf = rf_model.predict(X_test_w2v)\n",
        "\n",
        "print(\"\\n Resultados del Modelo: Random Forest + Word2Vec \")\n",
        "print(classification_report(y_test, y_pred_rf))\n",
        "\n",
        "# Matriz de Confusión\n",
        "cm_rf = confusion_matrix(y_test, y_pred_rf)\n",
        "sns.heatmap(cm_rf, annot=True, fmt='d', cmap='Oranges', xticklabels=['leve', 'moderado', 'severo'], yticklabels=['leve', 'moderado', 'severo'])\n",
        "plt.title('Matriz de Confusión - Random Forest')\n",
        "plt.ylabel('Etiqueta Real')\n",
        "plt.xlabel('Etiqueta Predicha')\n",
        "plt.show()"
      ],
      "metadata": {
        "colab": {
          "base_uri": "https://localhost:8080/",
          "height": 696
        },
        "id": "2PBLAvl35aSD",
        "outputId": "1f257102-7804-4462-ed6a-77196ec83033"
      },
      "execution_count": null,
      "outputs": [
        {
          "output_type": "stream",
          "name": "stdout",
          "text": [
            "\n",
            " Resultados del Modelo: Random Forest + Word2Vec \n",
            "              precision    recall  f1-score   support\n",
            "\n",
            "        leve       1.00      0.85      0.92        34\n",
            "    moderado       0.78      0.95      0.86        60\n",
            "      severo       0.91      0.74      0.82        43\n",
            "\n",
            "    accuracy                           0.86       137\n",
            "   macro avg       0.90      0.85      0.87       137\n",
            "weighted avg       0.88      0.86      0.86       137\n",
            "\n"
          ]
        },
        {
          "output_type": "display_data",
          "data": {
            "text/plain": [
              "<Figure size 640x480 with 2 Axes>"
            ],
            "image/png": "[encoded data removed]"
          },
          "metadata": {}
        }
      ]
    },
    {
      "cell_type": "markdown",
      "source": [
        "- SVM ligero + Word2Vec"
      ],
      "metadata": {
        "id": "K3zASt6JEoP_"
      }
    },
    {
      "cell_type": "code",
      "source": [
        "from sklearn.svm import LinearSVC\n",
        "\n",
        "# Entrenar el modelo\n",
        "svc = LinearSVC(random_state=42, max_iter=100,\n",
        "                class_weight='balanced', dual=False)\n",
        "svc.fit(X_train_w2v, y_train)\n",
        "\n",
        "# Evaluar en el conjunto de prueba\n",
        "y_pred_svc = svc.predict(X_test_w2v)\n",
        "\n",
        "print(\"\\n--- LinearSVC (Word2Vec) ---\")\n",
        "print(classification_report(y_test, y_pred_svc, target_names=label_names))\n",
        "\n",
        "# Matriz de Confusión\n",
        "cm2 = confusion_matrix(y_test, y_pred_svc)\n",
        "plt.figure(figsize=(6,4))\n",
        "sns.heatmap(cm2, annot=True, fmt='d', xticklabels=label_names, yticklabels=label_names)\n",
        "plt.title(\"Confusion matrix - SVC (W2V)\")\n",
        "plt.xlabel(\"Predicted\")\n",
        "plt.ylabel(\"True\")\n",
        "plt.show()"
      ],
      "metadata": {
        "colab": {
          "base_uri": "https://localhost:8080/",
          "height": 635
        },
        "id": "r3keJ6_lDpLg",
        "outputId": "f02455ae-bae1-4eac-cd1e-ffaca9160d8f"
      },
      "execution_count": null,
      "outputs": [
        {
          "output_type": "stream",
          "name": "stdout",
          "text": [
            "\n",
            "--- LinearSVC (Word2Vec) ---\n",
            "              precision    recall  f1-score   support\n",
            "\n",
            "        leve       0.00      0.00      0.00        34\n",
            "    moderado       0.44      1.00      0.61        60\n",
            "      severo       0.00      0.00      0.00        43\n",
            "\n",
            "    accuracy                           0.44       137\n",
            "   macro avg       0.15      0.33      0.20       137\n",
            "weighted avg       0.19      0.44      0.27       137\n",
            "\n"
          ]
        },
        {
          "output_type": "display_data",
          "data": {
            "text/plain": [
              "<Figure size 600x400 with 2 Axes>"
            ],
            "image/png": "[encoded data removed]"
          },
          "metadata": {}
        }
      ]
    },
    {
      "cell_type": "markdown",
      "source": [
        "- Multinominal Naive Bayes + TF-IDF"
      ],
      "metadata": {
        "id": "kCbGhOsEs2Ir"
      }
    },
    {
      "cell_type": "code",
      "source": [
        "# Entrenar el modelo\n",
        "nb_model = MultinomialNB(\n",
        "    alpha=2,\n",
        "    fit_prior=True,\n",
        "    class_prior=None)\n",
        "\n",
        "nb_model.fit(X_train_tfidf, y_train)\n",
        "\n",
        "# Realizar predicciones en el conjunto de prueba\n",
        "y_pred_nb = nb_model.predict(X_test_tfidf)\n",
        "\n",
        "# Evaluar el modelo en el conjunto de prueba\n",
        "print(\"\\n Multinomial Naive Bayes (TF-IDF) \")\n",
        "print(classification_report(y_test, y_pred_nb, target_names=label_names))\n",
        "\n",
        "# Matriz de confusión\n",
        "cm = confusion_matrix(y_test, y_pred_nb)\n",
        "plt.figure(figsize=(6,4))\n",
        "sns.heatmap(cm, annot=True, fmt='d', xticklabels=label_names, yticklabels=label_names)\n",
        "plt.title(\"Confusion matrix - Naive Bayes (TF-IDF)\")\n",
        "plt.xlabel(\"Predicted\")\n",
        "plt.ylabel(\"True\")\n",
        "plt.show()"
      ],
      "metadata": {
        "colab": {
          "base_uri": "https://localhost:8080/",
          "height": 635
        },
        "id": "M5pCwJEl9pp-",
        "outputId": "117365b0-a587-44e5-ba74-b11a9ae6fde7"
      },
      "execution_count": null,
      "outputs": [
        {
          "output_type": "stream",
          "name": "stdout",
          "text": [
            "\n",
            " Multinomial Naive Bayes (TF-IDF) \n",
            "              precision    recall  f1-score   support\n",
            "\n",
            "        leve       1.00      0.85      0.92        34\n",
            "    moderado       0.81      0.93      0.87        60\n",
            "      severo       0.90      0.81      0.85        43\n",
            "\n",
            "    accuracy                           0.88       137\n",
            "   macro avg       0.90      0.87      0.88       137\n",
            "weighted avg       0.89      0.88      0.88       137\n",
            "\n"
          ]
        },
        {
          "output_type": "display_data",
          "data": {
            "text/plain": [
              "<Figure size 600x400 with 2 Axes>"
            ],
            "image/png": "[encoded data removed]"
          },
          "metadata": {}
        }
      ]
    },
    {
      "cell_type": "markdown",
      "source": [
        "# **TRANSFORMER PRE-ENTRENADO 'BERT'**"
      ],
      "metadata": {
        "id": "n9m5Hg-nDClc"
      }
    },
    {
      "cell_type": "code",
      "source": [
        "# PyTorch y Transformers para BERT\n",
        "import torch\n",
        "from transformers import AutoTokenizer, AutoModelForSequenceClassification, Trainer, TrainingArguments\n",
        "from torch.utils.data import Dataset"
      ],
      "metadata": {
        "id": "OUIPJkfn_cen"
      },
      "execution_count": null,
      "outputs": []
    },
    {
      "cell_type": "markdown",
      "source": [
        "**PREPROCESAMIENTO**"
      ],
      "metadata": {
        "id": "Ir5j9LwkvpOj"
      }
    },
    {
      "cell_type": "markdown",
      "source": [
        "- Se concatenarán las variables de entrada (texto clínico, género, edad, afección) en una única secuencia de texto. Esta estrategia permite que el modelo BERT utilice su mecanismo de atención para capturar las complejas interacciones y el contexto entre los datos demográficos y la descripción clínica.\n",
        "BERT y otros modelos Transformers fueron diseñados para entender el lenguaje en su forma natural y rica, es por eso que se decide agregar información entre uniones para que se entiendan los números como edades, las letras como género y las afecciones observadas."
      ],
      "metadata": {
        "id": "ZRpphucUvXLb"
      }
    },
    {
      "cell_type": "code",
      "source": [
        "# Crear la entrada de texto concatenada (usando el DataFrame original)\n",
        "def crear_entrada_concatenada(row):\n",
        "    return (f\"TEXTO CLÍNICO: {row['texto_clinico']}. \"\n",
        "            f\"AFECCIÓN DIAGNOSTICADA: {row['afeccion']}. \"\n",
        "            f\"GÉNERO: {row['genero']}. \"\n",
        "            f\"EDAD: {row['edad']}.\")\n",
        "\n",
        "df['input_bert'] = df.apply(crear_entrada_concatenada, axis=1)\n",
        "\n",
        "# Dividir los datos para BERT\n",
        "X_bert = df['input_bert'].tolist()\n",
        "y_bert = df['gravedad'].tolist()\n",
        "X_train_bert, X_val_bert, y_train_bert, y_val_bert = train_test_split(X_bert, y_bert, test_size=0.3, random_state=42, stratify=y_bert)"
      ],
      "metadata": {
        "id": "z_LFkGvtBdla"
      },
      "execution_count": null,
      "outputs": []
    },
    {
      "cell_type": "code",
      "source": [
        "# DataFrames de soporte para análisis estratificado\n",
        "df_train_bert = pd.DataFrame({'text': X_train_bert, 'label': y_train_bert})\n",
        "df_val_bert = pd.DataFrame({'text': X_val_bert, 'label': y_val_bert})"
      ],
      "metadata": {
        "id": "aPSyi51-BlZ8"
      },
      "execution_count": null,
      "outputs": []
    },
    {
      "cell_type": "code",
      "source": [
        "# Visualización del texto despues de la concatenación e inclusión de texto referencial para el entendimiento de la semantica de BERT.\n",
        "with pd.option_context('display.max_colwidth', None):\n",
        "    print(df_train_bert['text'].head())"
      ],
      "metadata": {
        "colab": {
          "base_uri": "https://localhost:8080/"
        },
        "collapsed": true,
        "id": "OsaNiXW3B0CV",
        "outputId": "4af8b9db-3fd5-4e4b-cb97-55a9db1c0357"
      },
      "execution_count": null,
      "outputs": [
        {
          "output_type": "stream",
          "name": "stdout",
          "text": [
            "0                                   TEXTO CLÍNICO: Urgencia médica por dolor de cabeza, asociado a fractura de muñeca crítica.. AFECCIÓN DIAGNOSTICADA: fractura de muñeca. GÉNERO: M. EDAD: 47.\n",
            "1                                            TEXTO CLÍNICO: Se observa un patrón consistente con dolor lumbar, requiere seguimiento.. AFECCIÓN DIAGNOSTICADA: dolor lumbar. GÉNERO: F. EDAD: 52.\n",
            "2    TEXTO CLÍNICO: Refiere lumbago mecánico. Dolor aumenta al levantar objetos pesados. Se indican AINEs y reposo relativo.. AFECCIÓN DIAGNOSTICADA: dolor lumbar crónico. GÉNERO: M. EDAD: 44.\n",
            "3                                                  TEXTO CLÍNICO: El paciente ha tenido 3 días de malestar, incluyendo dolor torácico.. AFECCIÓN DIAGNOSTICADA: bronquitis. GÉNERO: F. EDAD: 27.\n",
            "4                                                    TEXTO CLÍNICO: Tos con expectoración herrumbrosa. Se sospecha neumonía neumocócica.. AFECCIÓN DIAGNOSTICADA: neumonía. GÉNERO: M. EDAD: 70.\n",
            "Name: text, dtype: object\n"
          ]
        }
      ]
    },
    {
      "cell_type": "code",
      "source": [
        "# Codificación de Etiquetas\n",
        "# El modelo necesita etiquetas numéricas (0, 1, 2) en lugar de texto ('leve', 'moderado', 'severo')\n",
        "label_encoder = LabelEncoder()\n",
        "y_train_encoded = label_encoder.fit_transform(y_train_bert)\n",
        "y_val_encoded = label_encoder.transform(y_val_bert)"
      ],
      "metadata": {
        "id": "CooSqwFYDabb"
      },
      "execution_count": null,
      "outputs": []
    },
    {
      "cell_type": "markdown",
      "source": [
        "**MODELO TRANSFORMER PRE-ENTRENADO**"
      ],
      "metadata": {
        "id": "gBQC9LdaZYs8"
      }
    },
    {
      "cell_type": "markdown",
      "source": [
        "- Se utilizará un modelo Transformer, específicamente el modelo de lenguaje de tipo BERT pre-entrenado **dccuchile/bert-base-spanish-wwm-cased**, por su alto rendimiento y profundo entendimiento del idioma español, lo cual es crucial para la terminología médica.  Es un modelo de lenguaje de última generación basado en la arquitectura BERT, pre-entrenado **específicamente para el idioma español**. Fue desarrollado por investigadores del Departamento de Ciencias de la Computación (DCC) de la Universidad de Chile.|"
      ],
      "metadata": {
        "id": "xKr58h-MuwH3"
      }
    },
    {
      "cell_type": "code",
      "source": [
        "# Cargar el Tokenizador y el Modelo\n",
        "# Usamos dccuchile/bert-base-spanish-wwm-cased por ser un modelo especialista en español.\n",
        "MODEL_NAME = 'dccuchile/bert-base-spanish-wwm-cased'\n",
        "tokenizer = AutoTokenizer.from_pretrained(MODEL_NAME)\n",
        "model = AutoModelForSequenceClassification.from_pretrained(\n",
        "    MODEL_NAME,\n",
        "    num_labels=len(label_encoder.classes_) # Se le indica que la clasificación es sobre 3 clases\n",
        ")"
      ],
      "metadata": {
        "colab": {
          "base_uri": "https://localhost:8080/"
        },
        "id": "RziQ90qC_k0m",
        "outputId": "0459f472-53a1-4d15-b491-615891b67ada"
      },
      "execution_count": null,
      "outputs": [
        {
          "output_type": "stream",
          "name": "stderr",
          "text": [
            "Some weights of BertForSequenceClassification were not initialized from the model checkpoint at dccuchile/bert-base-spanish-wwm-cased and are newly initialized: ['bert.pooler.dense.bias', 'bert.pooler.dense.weight', 'classifier.bias', 'classifier.weight']\n",
            "You should probably TRAIN this model on a down-stream task to be able to use it for predictions and inference.\n"
          ]
        }
      ]
    },
    {
      "cell_type": "code",
      "source": [
        "# Tokenización de los Datos\n",
        "# Convertimos el texto en un formato que BERT pueda entender (input_ids, attention_mask)\n",
        "train_encodings = tokenizer(X_train_bert, truncation=True, padding=True, max_length=128)\n",
        "val_encodings = tokenizer(X_val_bert, truncation=True, padding=True, max_length=128)"
      ],
      "metadata": {
        "id": "S82SX0GMD4cK"
      },
      "execution_count": null,
      "outputs": []
    },
    {
      "cell_type": "code",
      "source": [
        "# Creación de un Dataset Personalizado para PyTorch\n",
        "# Creamos una clase para manejar los datos de forma eficiente durante el entrenamiento\n",
        "class ClinicalNotesDataset(Dataset):\n",
        "    def __init__(self, encodings, labels):\n",
        "        self.encodings = encodings\n",
        "        self.labels = labels\n",
        "\n",
        "    def __getitem__(self, idx):\n",
        "        # Devuelve un diccionario con los tensores de PyTorch para un dato específico\n",
        "        item = {key: torch.tensor(val[idx]) for key, val in self.encodings.items()}\n",
        "        item['labels'] = torch.tensor(self.labels[idx])\n",
        "        return item\n",
        "\n",
        "    def __len__(self):\n",
        "        # Devuelve el tamaño total del dataset\n",
        "        return len(self.labels)"
      ],
      "metadata": {
        "id": "WVYmUcDcD74e"
      },
      "execution_count": null,
      "outputs": []
    },
    {
      "cell_type": "code",
      "source": [
        "# Instanciar los datasets de entrenamiento y validación\n",
        "train_dataset = ClinicalNotesDataset(train_encodings, y_train_encoded)\n",
        "val_dataset = ClinicalNotesDataset(val_encodings, y_val_encoded)"
      ],
      "metadata": {
        "id": "Cp_mzZMiD_zn"
      },
      "execution_count": null,
      "outputs": []
    },
    {
      "cell_type": "code",
      "source": [
        "# Configurar entrenamiento\n",
        "# Aquí configuramos los hiperparámetros del fine-tuning\n",
        "training_args = TrainingArguments(\n",
        "    output_dir='./results',          # Directorio donde se guardarán los resultados y checkpoints\n",
        "    num_train_epochs=4,              # Número de épocas de entrenamiento\n",
        "    per_device_train_batch_size=16,  # Tamaño del lote por dispositivo (GPU/CPU) durante el entrenamiento\n",
        "    per_device_eval_batch_size=16,   # Tamaño del lote para la evaluación\n",
        "    warmup_steps=50,                 # Pasos de \"calentamiento\" para el optimizador\n",
        "    weight_decay=0.01,               # Tasa de decaimiento de peso (regularización)\n",
        "    logging_dir='./logs',            # Directorio para guardar los logs\n",
        "    logging_steps=10,                # Frecuencia con la que se registran los logs\n",
        "    eval_strategy=\"epoch\",     # La evaluación se realiza al final de cada época\n",
        "    save_strategy=\"epoch\",           # El modelo se guarda al final de cada época\n",
        "    load_best_model_at_end=True,     # Carga el mejor modelo encontrado durante el entrenamiento al final\n",
        "    report_to=\"none\"                 # Desactiva la integración con servicios de logging externos\n",
        ")"
      ],
      "metadata": {
        "id": "FkflyU5gEFTh"
      },
      "execution_count": null,
      "outputs": []
    },
    {
      "cell_type": "code",
      "source": [
        "from transformers import EarlyStoppingCallback\n",
        "# Creación del Entrenador\n",
        "# Inclusión de callback 'EarlyStopping' para detener si la métrica de validación no mejora\n",
        "trainer = Trainer(\n",
        "    model=model,\n",
        "    args=training_args,\n",
        "    train_dataset=train_dataset,\n",
        "    eval_dataset=val_dataset,\n",
        "    callbacks=[EarlyStoppingCallback(early_stopping_patience=2)]\n",
        ")"
      ],
      "metadata": {
        "id": "n31vB5GQn4t5"
      },
      "execution_count": null,
      "outputs": []
    },
    {
      "cell_type": "code",
      "source": [
        "# Iniciar el Entrenamiento\n",
        "# Esta llamada comienza el proceso de fine-tuning.\n",
        "print(\"\\nIniciando el fine-tuning de BERT...\")\n",
        "trainer.train()\n",
        "print(\"Entrenamiento completado.\")"
      ],
      "metadata": {
        "colab": {
          "base_uri": "https://localhost:8080/",
          "height": 226
        },
        "id": "RmLAQf3cESnU",
        "outputId": "03801d27-f465-4ac6-dacf-2ada69f832b4"
      },
      "execution_count": null,
      "outputs": [
        {
          "output_type": "stream",
          "name": "stdout",
          "text": [
            "\n",
            "Iniciando el fine-tuning de BERT...\n"
          ]
        },
        {
          "output_type": "display_data",
          "data": {
            "text/plain": [
              "<IPython.core.display.HTML object>"
            ],
            "text/html": [
              "\n",
              "    <div>\n",
              "      \n",
              "      <progress value='60' max='80' style='width:300px; height:20px; vertical-align: middle;'></progress>\n",
              "      [60/80 02:22 < 00:49, 0.41 it/s, Epoch 3/4]\n",
              "    </div>\n",
              "    <table border=\"1\" class=\"dataframe\">\n",
              "  <thead>\n",
              " <tr style=\"text-align: left;\">\n",
              "      <th>Epoch</th>\n",
              "      <th>Training Loss</th>\n",
              "      <th>Validation Loss</th>\n",
              "    </tr>\n",
              "  </thead>\n",
              "  <tbody>\n",
              "    <tr>\n",
              "      <td>1</td>\n",
              "      <td>0.001500</td>\n",
              "      <td>0.114290</td>\n",
              "    </tr>\n",
              "    <tr>\n",
              "      <td>2</td>\n",
              "      <td>0.000400</td>\n",
              "      <td>0.196925</td>\n",
              "    </tr>\n",
              "    <tr>\n",
              "      <td>3</td>\n",
              "      <td>0.000100</td>\n",
              "      <td>0.213750</td>\n",
              "    </tr>\n",
              "  </tbody>\n",
              "</table><p>"
            ]
          },
          "metadata": {}
        },
        {
          "output_type": "stream",
          "name": "stdout",
          "text": [
            "Entrenamiento completado.\n"
          ]
        }
      ]
    },
    {
      "cell_type": "markdown",
      "source": [
        "- El modelo se detiene antes de la cuarta epoca, demostrando la existencia de sobreajuste después del primer modelo y activando callback."
      ],
      "metadata": {
        "id": "_aUOH6HVq2Cy"
      }
    },
    {
      "cell_type": "markdown",
      "source": [
        "**Evaluación de modelo**"
      ],
      "metadata": {
        "id": "J0VPITokymth"
      }
    },
    {
      "cell_type": "code",
      "source": [
        "# Realizar Predicciones\n",
        "predictions_output = trainer.predict(val_dataset)\n",
        "\n",
        "# Las predicciones del modelo son 'logits'. Necesitamos encontrar la clase con el logit más alto.\n",
        "y_pred_encoded = np.argmax(predictions_output.predictions, axis=1)\n",
        "y_true_encoded = y_val_encoded # Las etiquetas verdaderas que ya teníamos\n",
        "\n",
        "# Decodificar las etiquetas para hacerlas legibles\n",
        "# Convertimos los números (0, 1, 2) de vuelta a texto ('leve', 'moderado', 'severo')\n",
        "y_true_labels = label_encoder.inverse_transform(y_true_encoded)\n",
        "y_pred_labels = label_encoder.inverse_transform(y_pred_encoded)\n",
        "\n",
        "# Reporte de Clasificación General\n",
        "print(\"\\nReporte de Clasificación General (BERT) \")\n",
        "print(classification_report(y_true_labels, y_pred_labels, labels=['leve', 'moderado', 'severo']))\n",
        "\n",
        "# Matriz de Confusión\n",
        "print(\"Generando Matriz de Confusión...\")\n",
        "cm = confusion_matrix(y_true_labels, y_pred_labels, labels=['leve', 'moderado', 'severo'])\n",
        "\n",
        "plt.figure(figsize=(8, 6))\n",
        "sns.heatmap(cm, annot=True, fmt='d', cmap='Greens',\n",
        "            xticklabels=['leve', 'moderado', 'severo'],\n",
        "            yticklabels=['leve', 'moderado', 'severo'])\n",
        "plt.title('Matriz de Confusión - Modelo BERT')\n",
        "plt.ylabel('Etiqueta Real')\n",
        "plt.xlabel('Etiqueta Predicha')\n",
        "plt.show()"
      ],
      "metadata": {
        "colab": {
          "base_uri": "https://localhost:8080/",
          "height": 807
        },
        "id": "hcpwfPQiF03r",
        "outputId": "dba73aa7-c811-45f5-b265-f72ce5f2e1f0"
      },
      "execution_count": null,
      "outputs": [
        {
          "output_type": "display_data",
          "data": {
            "text/plain": [
              "<IPython.core.display.HTML object>"
            ],
            "text/html": []
          },
          "metadata": {}
        },
        {
          "output_type": "stream",
          "name": "stdout",
          "text": [
            "\n",
            "Reporte de Clasificación General (BERT) \n",
            "              precision    recall  f1-score   support\n",
            "\n",
            "        leve       1.00      1.00      1.00        34\n",
            "    moderado       1.00      0.97      0.98        60\n",
            "      severo       0.96      1.00      0.98        43\n",
            "\n",
            "    accuracy                           0.99       137\n",
            "   macro avg       0.99      0.99      0.99       137\n",
            "weighted avg       0.99      0.99      0.99       137\n",
            "\n",
            "Generando Matriz de Confusión...\n"
          ]
        },
        {
          "output_type": "display_data",
          "data": {
            "text/plain": [
              "<Figure size 800x600 with 2 Axes>"
            ],
            "image/png": "[encoded data removed]"
          },
          "metadata": {}
        }
      ]
    },
    {
      "cell_type": "code",
      "source": [
        "# Crear un DataFrame con los resultados de la validación para un análisis fácil\n",
        "df_val_results = pd.DataFrame({\n",
        "    'texto_completo': X_val_bert,\n",
        "    # Extraemos el género de la cadena de texto concatenada\n",
        "    'genero': [row.split(\"GÉNERO: \")[1].split(\".\")[0] for row in X_val_bert],\n",
        "    'gravedad_real': y_true_labels,\n",
        "    'gravedad_pred': y_pred_labels})"
      ],
      "metadata": {
        "id": "vXvfJDbvKRNI"
      },
      "execution_count": null,
      "outputs": []
    },
    {
      "cell_type": "code",
      "source": [
        "# Este DataFrame contiene: 'texto_completo', 'gravedad_real', 'gravedad_pred'\n",
        "\n",
        "print(\"Muestra de Resultados de Clasificación del Modelo BERT\")\n",
        "# Configuramos pandas para mostrar el texto completo sin truncarlo\n",
        "pd.set_option('display.max_colwidth', None)\n",
        "\n",
        "# Creamos una columna para identificar fácilmente aciertos y errores\n",
        "df_val_results['Resultado'] = df_val_results.apply(\n",
        "    lambda row: \"Acierto\" if row['gravedad_real'] == row['gravedad_pred'] else \"ERROR\",\n",
        "    axis=1)\n",
        "\n",
        "# Seleccionamos y renombramos las columnas para una visualización clara\n",
        "informe_resultados = df_val_results[[\n",
        "    'gravedad_real',\n",
        "    'gravedad_pred',\n",
        "    'Resultado',\n",
        "    'texto_completo'\n",
        "]].rename(columns={\n",
        "    'texto_completo': 'Texto de Entrada para el Modelo',\n",
        "    'gravedad_real': 'Gravedad Real',\n",
        "    'gravedad_pred': 'Predicción de BERT'})\n",
        "\n",
        "# Usamos .to_string() para asegurar que se muestre todo el contenido de las celdas\n",
        "print(informe_resultados.head(15).to_string())\n",
        "\n",
        "# Adicional: Mostrar específicamente los casos donde el modelo se equivocó\n",
        "print(\"\\n\\nCasos Específicos Donde el Modelo Cometió Errores\")\n",
        "errores = informe_resultados[informe_resultados['Resultado'] == \"ERROR\"]\n",
        "\n",
        "if errores.empty:\n",
        "    print(\"El modelo no cometió errores en este subconjunto de validación.\")\n",
        "else:\n",
        "    print(errores.to_string())"
      ],
      "metadata": {
        "colab": {
          "base_uri": "https://localhost:8080/"
        },
        "id": "-bMd_9o5Jma9",
        "outputId": "284fb8bd-ad98-4816-c2d1-770717fedac5"
      },
      "execution_count": null,
      "outputs": [
        {
          "output_type": "stream",
          "name": "stdout",
          "text": [
            "Muestra de Resultados de Clasificación del Modelo BERT\n",
            "   Gravedad Real Predicción de BERT Resultado                                                                                                                                                           Texto de Entrada para el Modelo\n",
            "0         severo             severo   Acierto                         TEXTO CLÍNICO: El paciente muestra signos severos como dolor torácico y fatiga, requiere hospitalización.. AFECCIÓN DIAGNOSTICADA: neumonía. GÉNERO: M. EDAD: 80.\n",
            "1       moderado           moderado   Acierto                             TEXTO CLÍNICO: El cuadro clínico indica dolor lumbar, con síntomas como fatiga y dolor de cabeza.. AFECCIÓN DIAGNOSTICADA: dolor lumbar. GÉNERO: M. EDAD: 73.\n",
            "2       moderado           moderado   Acierto                                       TEXTO CLÍNICO: Se observa un patrón consistente con dolor lumbar, requiere seguimiento.. AFECCIÓN DIAGNOSTICADA: dolor lumbar. GÉNERO: F. EDAD: 79.\n",
            "3       moderado           moderado   Acierto                                           TEXTO CLÍNICO: Prostatitis aguda. Causa de infección urinaria en varón joven.. AFECCIÓN DIAGNOSTICADA: infección urinaria. GÉNERO: M. EDAD: 33.\n",
            "4         severo             severo   Acierto            TEXTO CLÍNICO: Dolor abdominal agudo, náuseas y fiebre. Se diagnostica apendicitis y se prepara para cirugía.. AFECCIÓN DIAGNOSTICADA: apendicitis aguda. GÉNERO: F. EDAD: 26.\n",
            "5         severo             severo   Acierto                                                      TEXTO CLÍNICO: Evolución rápida del cuadro clínico, compatible con neumonía.. AFECCIÓN DIAGNOSTICADA: neumonía. GÉNERO: M. EDAD: 80.\n",
            "6       moderado           moderado   Acierto                             TEXTO CLÍNICO: Paciente diabético con herida en pie que no cicatriza. Signos de pie diabético.. AFECCIÓN DIAGNOSTICADA: diabetes tipo 2. GÉNERO: M. EDAD: 69.\n",
            "7       moderado           moderado   Acierto                          TEXTO CLÍNICO: Paciente con asma persistente moderado. Necesita corticoides inhalados a diario para control.. AFECCIÓN DIAGNOSTICADA: asma. GÉNERO: M. EDAD: 35.\n",
            "8         severo             severo   Acierto                    TEXTO CLÍNICO: Apendicitis flemonosa encontrada en cirugía. Se realiza apendicectomía sin incidentes.. AFECCIÓN DIAGNOSTICADA: apendicitis aguda. GÉNERO: M. EDAD: 29.\n",
            "9         severo             severo   Acierto  TEXTO CLÍNICO: El paciente muestra signos severos como dificultad respiratoria y tos, requiere hospitalización.. AFECCIÓN DIAGNOSTICADA: insuficiencia renal aguda. GÉNERO: M. EDAD: 26.\n",
            "10        severo             severo   Acierto                                                       TEXTO CLÍNICO: Falla renal aguda en el contexto de sepsis. Requiere diálisis.. AFECCIÓN DIAGNOSTICADA: sepsis. GÉNERO: M. EDAD: 71.\n",
            "11      moderado           moderado   Acierto      TEXTO CLÍNICO: Paciente con ansiedad, presenta palpitaciones y sensación de ahogo. Se descarta patología orgánica.. AFECCIÓN DIAGNOSTICADA: crisis de ansiedad. GÉNERO: F. EDAD: 28.\n",
            "12      moderado           moderado   Acierto                  TEXTO CLÍNICO: Vómitos persistentes. Se administra suero intravenoso por deshidratación. Gastroenteritis.. AFECCIÓN DIAGNOSTICADA: gastroenteritis. GÉNERO: M. EDAD: 26.\n",
            "13      moderado           moderado   Acierto                                 TEXTO CLÍNICO: Se observa un patrón consistente con diabetes tipo 2, requiere seguimiento.. AFECCIÓN DIAGNOSTICADA: diabetes tipo 2. GÉNERO: M. EDAD: 67.\n",
            "14          leve               leve   Acierto                                                          TEXTO CLÍNICO: Consulta por resfriado común sin signos de alarma.. AFECCIÓN DIAGNOSTICADA: resfriado común. GÉNERO: M. EDAD: 20.\n",
            "\n",
            "\n",
            "Casos Específicos Donde el Modelo Cometió Errores\n",
            "    Gravedad Real Predicción de BERT Resultado                                                                                                                         Texto de Entrada para el Modelo\n",
            "54       moderado             severo     ERROR  TEXTO CLÍNICO: Neumonía en lóbulo inferior izquierdo. Tratamiento ambulatorio con amoxicilina.. AFECCIÓN DIAGNOSTICADA: neumonía. GÉNERO: M. EDAD: 53.\n",
            "134      moderado             severo     ERROR          TEXTO CLÍNICO: Fractura de muñeca conminuta. Requiere resolución quirúrgica.. AFECCIÓN DIAGNOSTICADA: fractura de muñeca. GÉNERO: M. EDAD: 38.\n"
          ]
        }
      ]
    },
    {
      "cell_type": "code",
      "source": [
        "errores"
      ],
      "metadata": {
        "colab": {
          "base_uri": "https://localhost:8080/",
          "height": 125
        },
        "id": "oeGQNS3xKx9m",
        "outputId": "1627c099-ef4d-4f2b-a2ae-a373ad0b5555"
      },
      "execution_count": null,
      "outputs": [
        {
          "output_type": "execute_result",
          "data": {
            "text/plain": [
              "    Gravedad Real Predicción de BERT Resultado  \\\n",
              "54       moderado             severo     ERROR   \n",
              "134      moderado             severo     ERROR   \n",
              "\n",
              "                                                                                                                            Texto de Entrada para el Modelo  \n",
              "54   TEXTO CLÍNICO: Neumonía en lóbulo inferior izquierdo. Tratamiento ambulatorio con amoxicilina.. AFECCIÓN DIAGNOSTICADA: neumonía. GÉNERO: M. EDAD: 53.  \n",
              "134          TEXTO CLÍNICO: Fractura de muñeca conminuta. Requiere resolución quirúrgica.. AFECCIÓN DIAGNOSTICADA: fractura de muñeca. GÉNERO: M. EDAD: 38.  "
            ],
            "text/html": [
              "\n",
              "  <div id=\"df-58e4caf3-d0dc-4b1d-8d64-4c382d8018b9\" class=\"colab-df-container\">\n",
              "    <div>\n",
              "<style scoped>\n",
              "    .dataframe tbody tr th:only-of-type {\n",
              "        vertical-align: middle;\n",
              "    }\n",
              "\n",
              "    .dataframe tbody tr th {\n",
              "        vertical-align: top;\n",
              "    }\n",
              "\n",
              "    .dataframe thead th {\n",
              "        text-align: right;\n",
              "    }\n",
              "</style>\n",
              "<table border=\"1\" class=\"dataframe\">\n",
              "  <thead>\n",
              "    <tr style=\"text-align: right;\">\n",
              "      <th></th>\n",
              "      <th>Gravedad Real</th>\n",
              "      <th>Predicción de BERT</th>\n",
              "      <th>Resultado</th>\n",
              "      <th>Texto de Entrada para el Modelo</th>\n",
              "    </tr>\n",
              "  </thead>\n",
              "  <tbody>\n",
              "    <tr>\n",
              "      <th>54</th>\n",
              "      <td>moderado</td>\n",
              "      <td>severo</td>\n",
              "      <td>ERROR</td>\n",
              "      <td>TEXTO CLÍNICO: Neumonía en lóbulo inferior izquierdo. Tratamiento ambulatorio con amoxicilina.. AFECCIÓN DIAGNOSTICADA: neumonía. GÉNERO: M. EDAD: 53.</td>\n",
              "    </tr>\n",
              "    <tr>\n",
              "      <th>134</th>\n",
              "      <td>moderado</td>\n",
              "      <td>severo</td>\n",
              "      <td>ERROR</td>\n",
              "      <td>TEXTO CLÍNICO: Fractura de muñeca conminuta. Requiere resolución quirúrgica.. AFECCIÓN DIAGNOSTICADA: fractura de muñeca. GÉNERO: M. EDAD: 38.</td>\n",
              "    </tr>\n",
              "  </tbody>\n",
              "</table>\n",
              "</div>\n",
              "    <div class=\"colab-df-buttons\">\n",
              "\n",
              "  <div class=\"colab-df-container\">\n",
              "    <button class=\"colab-df-convert\" onclick=\"convertToInteractive('df-58e4caf3-d0dc-4b1d-8d64-4c382d8018b9')\"\n",
              "            title=\"Convert this dataframe to an interactive table.\"\n",
              "            style=\"display:none;\">\n",
              "\n",
              "  <svg xmlns=\"http://www.w3.org/2000/svg\" height=\"24px\" viewBox=\"0 -960 960 960\">\n",
              "    <path d=\"M120-120v-720h720v720H120Zm60-500h600v-160H180v160Zm220 220h160v-160H400v160Zm0 220h160v-160H400v160ZM180-400h160v-160H180v160Zm440 0h160v-160H620v160ZM180-180h160v-160H180v160Zm440 0h160v-160H620v160Z\"/>\n",
              "  </svg>\n",
              "    </button>\n",
              "\n",
              "  <style>\n",
              "    .colab-df-container {\n",
              "      display:flex;\n",
              "      gap: 12px;\n",
              "    }\n",
              "\n",
              "    .colab-df-convert {\n",
              "      background-color: #E8F0FE;\n",
              "      border: none;\n",
              "      border-radius: 50%;\n",
              "      cursor: pointer;\n",
              "      display: none;\n",
              "      fill: #1967D2;\n",
              "      height: 32px;\n",
              "      padding: 0 0 0 0;\n",
              "      width: 32px;\n",
              "    }\n",
              "\n",
              "    .colab-df-convert:hover {\n",
              "      background-color: #E2EBFA;\n",
              "      box-shadow: 0px 1px 2px rgba(60, 64, 67, 0.3), 0px 1px 3px 1px rgba(60, 64, 67, 0.15);\n",
              "      fill: #174EA6;\n",
              "    }\n",
              "\n",
              "    .colab-df-buttons div {\n",
              "      margin-bottom: 4px;\n",
              "    }\n",
              "\n",
              "    [theme=dark] .colab-df-convert {\n",
              "      background-color: #3B4455;\n",
              "      fill: #D2E3FC;\n",
              "    }\n",
              "\n",
              "    [theme=dark] .colab-df-convert:hover {\n",
              "      background-color: #434B5C;\n",
              "      box-shadow: 0px 1px 3px 1px rgba(0, 0, 0, 0.15);\n",
              "      filter: drop-shadow(0px 1px 2px rgba(0, 0, 0, 0.3));\n",
              "      fill: #FFFFFF;\n",
              "    }\n",
              "  </style>\n",
              "\n",
              "    <script>\n",
              "      const buttonEl =\n",
              "        document.querySelector('#df-58e4caf3-d0dc-4b1d-8d64-4c382d8018b9 button.colab-df-convert');\n",
              "      buttonEl.style.display =\n",
              "        google.colab.kernel.accessAllowed ? 'block' : 'none';\n",
              "\n",
              "      async function convertToInteractive(key) {\n",
              "        const element = document.querySelector('#df-58e4caf3-d0dc-4b1d-8d64-4c382d8018b9');\n",
              "        const dataTable =\n",
              "          await google.colab.kernel.invokeFunction('convertToInteractive',\n",
              "                                                    [key], {});\n",
              "        if (!dataTable) return;\n",
              "\n",
              "        const docLinkHtml = 'Like what you see? Visit the ' +\n",
              "          '<a target=\"_blank\" href=https://colab.research.google.com/notebooks/data_table.ipynb>data table notebook</a>'\n",
              "          + ' to learn more about interactive tables.';\n",
              "        element.innerHTML = '';\n",
              "        dataTable['output_type'] = 'display_data';\n",
              "        await google.colab.output.renderOutput(dataTable, element);\n",
              "        const docLink = document.createElement('div');\n",
              "        docLink.innerHTML = docLinkHtml;\n",
              "        element.appendChild(docLink);\n",
              "      }\n",
              "    </script>\n",
              "  </div>\n",
              "\n",
              "\n",
              "    <div id=\"df-b0cd06f6-ed3a-450f-9e95-fb9ff096d03d\">\n",
              "      <button class=\"colab-df-quickchart\" onclick=\"quickchart('df-b0cd06f6-ed3a-450f-9e95-fb9ff096d03d')\"\n",
              "                title=\"Suggest charts\"\n",
              "                style=\"display:none;\">\n",
              "\n",
              "<svg xmlns=\"http://www.w3.org/2000/svg\" height=\"24px\"viewBox=\"0 0 24 24\"\n",
              "     width=\"24px\">\n",
              "    <g>\n",
              "        <path d=\"M19 3H5c-1.1 0-2 .9-2 2v14c0 1.1.9 2 2 2h14c1.1 0 2-.9 2-2V5c0-1.1-.9-2-2-2zM9 17H7v-7h2v7zm4 0h-2V7h2v10zm4 0h-2v-4h2v4z\"/>\n",
              "    </g>\n",
              "</svg>\n",
              "      </button>\n",
              "\n",
              "<style>\n",
              "  .colab-df-quickchart {\n",
              "      --bg-color: #E8F0FE;\n",
              "      --fill-color: #1967D2;\n",
              "      --hover-bg-color: #E2EBFA;\n",
              "      --hover-fill-color: #174EA6;\n",
              "      --disabled-fill-color: #AAA;\n",
              "      --disabled-bg-color: #DDD;\n",
              "  }\n",
              "\n",
              "  [theme=dark] .colab-df-quickchart {\n",
              "      --bg-color: #3B4455;\n",
              "      --fill-color: #D2E3FC;\n",
              "      --hover-bg-color: #434B5C;\n",
              "      --hover-fill-color: #FFFFFF;\n",
              "      --disabled-bg-color: #3B4455;\n",
              "      --disabled-fill-color: #666;\n",
              "  }\n",
              "\n",
              "  .colab-df-quickchart {\n",
              "    background-color: var(--bg-color);\n",
              "    border: none;\n",
              "    border-radius: 50%;\n",
              "    cursor: pointer;\n",
              "    display: none;\n",
              "    fill: var(--fill-color);\n",
              "    height: 32px;\n",
              "    padding: 0;\n",
              "    width: 32px;\n",
              "  }\n",
              "\n",
              "  .colab-df-quickchart:hover {\n",
              "    background-color: var(--hover-bg-color);\n",
              "    box-shadow: 0 1px 2px rgba(60, 64, 67, 0.3), 0 1px 3px 1px rgba(60, 64, 67, 0.15);\n",
              "    fill: var(--button-hover-fill-color);\n",
              "  }\n",
              "\n",
              "  .colab-df-quickchart-complete:disabled,\n",
              "  .colab-df-quickchart-complete:disabled:hover {\n",
              "    background-color: var(--disabled-bg-color);\n",
              "    fill: var(--disabled-fill-color);\n",
              "    box-shadow: none;\n",
              "  }\n",
              "\n",
              "  .colab-df-spinner {\n",
              "    border: 2px solid var(--fill-color);\n",
              "    border-color: transparent;\n",
              "    border-bottom-color: var(--fill-color);\n",
              "    animation:\n",
              "      spin 1s steps(1) infinite;\n",
              "  }\n",
              "\n",
              "  @keyframes spin {\n",
              "    0% {\n",
              "      border-color: transparent;\n",
              "      border-bottom-color: var(--fill-color);\n",
              "      border-left-color: var(--fill-color);\n",
              "    }\n",
              "    20% {\n",
              "      border-color: transparent;\n",
              "      border-left-color: var(--fill-color);\n",
              "      border-top-color: var(--fill-color);\n",
              "    }\n",
              "    30% {\n",
              "      border-color: transparent;\n",
              "      border-left-color: var(--fill-color);\n",
              "      border-top-color: var(--fill-color);\n",
              "      border-right-color: var(--fill-color);\n",
              "    }\n",
              "    40% {\n",
              "      border-color: transparent;\n",
              "      border-right-color: var(--fill-color);\n",
              "      border-top-color: var(--fill-color);\n",
              "    }\n",
              "    60% {\n",
              "      border-color: transparent;\n",
              "      border-right-color: var(--fill-color);\n",
              "    }\n",
              "    80% {\n",
              "      border-color: transparent;\n",
              "      border-right-color: var(--fill-color);\n",
              "      border-bottom-color: var(--fill-color);\n",
              "    }\n",
              "    90% {\n",
              "      border-color: transparent;\n",
              "      border-bottom-color: var(--fill-color);\n",
              "    }\n",
              "  }\n",
              "</style>\n",
              "\n",
              "      <script>\n",
              "        async function quickchart(key) {\n",
              "          const quickchartButtonEl =\n",
              "            document.querySelector('#' + key + ' button');\n",
              "          quickchartButtonEl.disabled = true;  // To prevent multiple clicks.\n",
              "          quickchartButtonEl.classList.add('colab-df-spinner');\n",
              "          try {\n",
              "            const charts = await google.colab.kernel.invokeFunction(\n",
              "                'suggestCharts', [key], {});\n",
              "          } catch (error) {\n",
              "            console.error('Error during call to suggestCharts:', error);\n",
              "          }\n",
              "          quickchartButtonEl.classList.remove('colab-df-spinner');\n",
              "          quickchartButtonEl.classList.add('colab-df-quickchart-complete');\n",
              "        }\n",
              "        (() => {\n",
              "          let quickchartButtonEl =\n",
              "            document.querySelector('#df-b0cd06f6-ed3a-450f-9e95-fb9ff096d03d button');\n",
              "          quickchartButtonEl.style.display =\n",
              "            google.colab.kernel.accessAllowed ? 'block' : 'none';\n",
              "        })();\n",
              "      </script>\n",
              "    </div>\n",
              "\n",
              "  <div id=\"id_0d48a93a-7a11-4680-9be6-1c97418591e8\">\n",
              "    <style>\n",
              "      .colab-df-generate {\n",
              "        background-color: #E8F0FE;\n",
              "        border: none;\n",
              "        border-radius: 50%;\n",
              "        cursor: pointer;\n",
              "        display: none;\n",
              "        fill: #1967D2;\n",
              "        height: 32px;\n",
              "        padding: 0 0 0 0;\n",
              "        width: 32px;\n",
              "      }\n",
              "\n",
              "      .colab-df-generate:hover {\n",
              "        background-color: #E2EBFA;\n",
              "        box-shadow: 0px 1px 2px rgba(60, 64, 67, 0.3), 0px 1px 3px 1px rgba(60, 64, 67, 0.15);\n",
              "        fill: #174EA6;\n",
              "      }\n",
              "\n",
              "      [theme=dark] .colab-df-generate {\n",
              "        background-color: #3B4455;\n",
              "        fill: #D2E3FC;\n",
              "      }\n",
              "\n",
              "      [theme=dark] .colab-df-generate:hover {\n",
              "        background-color: #434B5C;\n",
              "        box-shadow: 0px 1px 3px 1px rgba(0, 0, 0, 0.15);\n",
              "        filter: drop-shadow(0px 1px 2px rgba(0, 0, 0, 0.3));\n",
              "        fill: #FFFFFF;\n",
              "      }\n",
              "    </style>\n",
              "    <button class=\"colab-df-generate\" onclick=\"generateWithVariable('errores')\"\n",
              "            title=\"Generate code using this dataframe.\"\n",
              "            style=\"display:none;\">\n",
              "\n",
              "  <svg xmlns=\"http://www.w3.org/2000/svg\" height=\"24px\"viewBox=\"0 0 24 24\"\n",
              "       width=\"24px\">\n",
              "    <path d=\"M7,19H8.4L18.45,9,17,7.55,7,17.6ZM5,21V16.75L18.45,3.32a2,2,0,0,1,2.83,0l1.4,1.43a1.91,1.91,0,0,1,.58,1.4,1.91,1.91,0,0,1-.58,1.4L9.25,21ZM18.45,9,17,7.55Zm-12,3A5.31,5.31,0,0,0,4.9,8.1,5.31,5.31,0,0,0,1,6.5,5.31,5.31,0,0,0,4.9,4.9,5.31,5.31,0,0,0,6.5,1,5.31,5.31,0,0,0,8.1,4.9,5.31,5.31,0,0,0,12,6.5,5.46,5.46,0,0,0,6.5,12Z\"/>\n",
              "  </svg>\n",
              "    </button>\n",
              "    <script>\n",
              "      (() => {\n",
              "      const buttonEl =\n",
              "        document.querySelector('#id_0d48a93a-7a11-4680-9be6-1c97418591e8 button.colab-df-generate');\n",
              "      buttonEl.style.display =\n",
              "        google.colab.kernel.accessAllowed ? 'block' : 'none';\n",
              "\n",
              "      buttonEl.onclick = () => {\n",
              "        google.colab.notebook.generateWithVariable('errores');\n",
              "      }\n",
              "      })();\n",
              "    </script>\n",
              "  </div>\n",
              "\n",
              "    </div>\n",
              "  </div>\n"
            ],
            "application/vnd.google.colaboratory.intrinsic+json": {
              "type": "dataframe",
              "variable_name": "errores",
              "summary": "{\n  \"name\": \"errores\",\n  \"rows\": 2,\n  \"fields\": [\n    {\n      \"column\": \"Gravedad Real\",\n      \"properties\": {\n        \"dtype\": \"string\",\n        \"num_unique_values\": 1,\n        \"samples\": [\n          \"moderado\"\n        ],\n        \"semantic_type\": \"\",\n        \"description\": \"\"\n      }\n    },\n    {\n      \"column\": \"Predicci\\u00f3n de BERT\",\n      \"properties\": {\n        \"dtype\": \"string\",\n        \"num_unique_values\": 1,\n        \"samples\": [\n          \"severo\"\n        ],\n        \"semantic_type\": \"\",\n        \"description\": \"\"\n      }\n    },\n    {\n      \"column\": \"Resultado\",\n      \"properties\": {\n        \"dtype\": \"string\",\n        \"num_unique_values\": 1,\n        \"samples\": [\n          \"ERROR\"\n        ],\n        \"semantic_type\": \"\",\n        \"description\": \"\"\n      }\n    },\n    {\n      \"column\": \"Texto de Entrada para el Modelo\",\n      \"properties\": {\n        \"dtype\": \"string\",\n        \"num_unique_values\": 2,\n        \"samples\": [\n          \"TEXTO CL\\u00cdNICO: Fractura de mu\\u00f1eca conminuta. Requiere resoluci\\u00f3n quir\\u00fargica.. AFECCI\\u00d3N DIAGNOSTICADA: fractura de mu\\u00f1eca. G\\u00c9NERO: M. EDAD: 38.\"\n        ],\n        \"semantic_type\": \"\",\n        \"description\": \"\"\n      }\n    }\n  ]\n}"
            }
          },
          "metadata": {},
          "execution_count": 38
        }
      ]
    },
    {
      "cell_type": "code",
      "source": [
        "informe_resultados.head(10)"
      ],
      "metadata": {
        "colab": {
          "base_uri": "https://localhost:8080/",
          "height": 415
        },
        "id": "3lGWw85SKr4A",
        "outputId": "f604ca9f-1370-45fb-9179-719100fe526c"
      },
      "execution_count": null,
      "outputs": [
        {
          "output_type": "execute_result",
          "data": {
            "text/plain": [
              "  Gravedad Real Predicción de BERT Resultado  \\\n",
              "0        severo             severo   Acierto   \n",
              "1      moderado           moderado   Acierto   \n",
              "2      moderado           moderado   Acierto   \n",
              "3      moderado           moderado   Acierto   \n",
              "4        severo             severo   Acierto   \n",
              "5        severo             severo   Acierto   \n",
              "6      moderado           moderado   Acierto   \n",
              "7      moderado           moderado   Acierto   \n",
              "8        severo             severo   Acierto   \n",
              "9        severo             severo   Acierto   \n",
              "\n",
              "                                                                                                                                                            Texto de Entrada para el Modelo  \n",
              "0                         TEXTO CLÍNICO: El paciente muestra signos severos como dolor torácico y fatiga, requiere hospitalización.. AFECCIÓN DIAGNOSTICADA: neumonía. GÉNERO: M. EDAD: 80.  \n",
              "1                             TEXTO CLÍNICO: El cuadro clínico indica dolor lumbar, con síntomas como fatiga y dolor de cabeza.. AFECCIÓN DIAGNOSTICADA: dolor lumbar. GÉNERO: M. EDAD: 73.  \n",
              "2                                       TEXTO CLÍNICO: Se observa un patrón consistente con dolor lumbar, requiere seguimiento.. AFECCIÓN DIAGNOSTICADA: dolor lumbar. GÉNERO: F. EDAD: 79.  \n",
              "3                                           TEXTO CLÍNICO: Prostatitis aguda. Causa de infección urinaria en varón joven.. AFECCIÓN DIAGNOSTICADA: infección urinaria. GÉNERO: M. EDAD: 33.  \n",
              "4            TEXTO CLÍNICO: Dolor abdominal agudo, náuseas y fiebre. Se diagnostica apendicitis y se prepara para cirugía.. AFECCIÓN DIAGNOSTICADA: apendicitis aguda. GÉNERO: F. EDAD: 26.  \n",
              "5                                                      TEXTO CLÍNICO: Evolución rápida del cuadro clínico, compatible con neumonía.. AFECCIÓN DIAGNOSTICADA: neumonía. GÉNERO: M. EDAD: 80.  \n",
              "6                             TEXTO CLÍNICO: Paciente diabético con herida en pie que no cicatriza. Signos de pie diabético.. AFECCIÓN DIAGNOSTICADA: diabetes tipo 2. GÉNERO: M. EDAD: 69.  \n",
              "7                          TEXTO CLÍNICO: Paciente con asma persistente moderado. Necesita corticoides inhalados a diario para control.. AFECCIÓN DIAGNOSTICADA: asma. GÉNERO: M. EDAD: 35.  \n",
              "8                    TEXTO CLÍNICO: Apendicitis flemonosa encontrada en cirugía. Se realiza apendicectomía sin incidentes.. AFECCIÓN DIAGNOSTICADA: apendicitis aguda. GÉNERO: M. EDAD: 29.  \n",
              "9  TEXTO CLÍNICO: El paciente muestra signos severos como dificultad respiratoria y tos, requiere hospitalización.. AFECCIÓN DIAGNOSTICADA: insuficiencia renal aguda. GÉNERO: M. EDAD: 26.  "
            ],
            "text/html": [
              "\n",
              "  <div id=\"df-d5f5617c-7d46-48de-87ae-397613daa492\" class=\"colab-df-container\">\n",
              "    <div>\n",
              "<style scoped>\n",
              "    .dataframe tbody tr th:only-of-type {\n",
              "        vertical-align: middle;\n",
              "    }\n",
              "\n",
              "    .dataframe tbody tr th {\n",
              "        vertical-align: top;\n",
              "    }\n",
              "\n",
              "    .dataframe thead th {\n",
              "        text-align: right;\n",
              "    }\n",
              "</style>\n",
              "<table border=\"1\" class=\"dataframe\">\n",
              "  <thead>\n",
              "    <tr style=\"text-align: right;\">\n",
              "      <th></th>\n",
              "      <th>Gravedad Real</th>\n",
              "      <th>Predicción de BERT</th>\n",
              "      <th>Resultado</th>\n",
              "      <th>Texto de Entrada para el Modelo</th>\n",
              "    </tr>\n",
              "  </thead>\n",
              "  <tbody>\n",
              "    <tr>\n",
              "      <th>0</th>\n",
              "      <td>severo</td>\n",
              "      <td>severo</td>\n",
              "      <td>Acierto</td>\n",
              "      <td>TEXTO CLÍNICO: El paciente muestra signos severos como dolor torácico y fatiga, requiere hospitalización.. AFECCIÓN DIAGNOSTICADA: neumonía. GÉNERO: M. EDAD: 80.</td>\n",
              "    </tr>\n",
              "    <tr>\n",
              "      <th>1</th>\n",
              "      <td>moderado</td>\n",
              "      <td>moderado</td>\n",
              "      <td>Acierto</td>\n",
              "      <td>TEXTO CLÍNICO: El cuadro clínico indica dolor lumbar, con síntomas como fatiga y dolor de cabeza.. AFECCIÓN DIAGNOSTICADA: dolor lumbar. GÉNERO: M. EDAD: 73.</td>\n",
              "    </tr>\n",
              "    <tr>\n",
              "      <th>2</th>\n",
              "      <td>moderado</td>\n",
              "      <td>moderado</td>\n",
              "      <td>Acierto</td>\n",
              "      <td>TEXTO CLÍNICO: Se observa un patrón consistente con dolor lumbar, requiere seguimiento.. AFECCIÓN DIAGNOSTICADA: dolor lumbar. GÉNERO: F. EDAD: 79.</td>\n",
              "    </tr>\n",
              "    <tr>\n",
              "      <th>3</th>\n",
              "      <td>moderado</td>\n",
              "      <td>moderado</td>\n",
              "      <td>Acierto</td>\n",
              "      <td>TEXTO CLÍNICO: Prostatitis aguda. Causa de infección urinaria en varón joven.. AFECCIÓN DIAGNOSTICADA: infección urinaria. GÉNERO: M. EDAD: 33.</td>\n",
              "    </tr>\n",
              "    <tr>\n",
              "      <th>4</th>\n",
              "      <td>severo</td>\n",
              "      <td>severo</td>\n",
              "      <td>Acierto</td>\n",
              "      <td>TEXTO CLÍNICO: Dolor abdominal agudo, náuseas y fiebre. Se diagnostica apendicitis y se prepara para cirugía.. AFECCIÓN DIAGNOSTICADA: apendicitis aguda. GÉNERO: F. EDAD: 26.</td>\n",
              "    </tr>\n",
              "    <tr>\n",
              "      <th>5</th>\n",
              "      <td>severo</td>\n",
              "      <td>severo</td>\n",
              "      <td>Acierto</td>\n",
              "      <td>TEXTO CLÍNICO: Evolución rápida del cuadro clínico, compatible con neumonía.. AFECCIÓN DIAGNOSTICADA: neumonía. GÉNERO: M. EDAD: 80.</td>\n",
              "    </tr>\n",
              "    <tr>\n",
              "      <th>6</th>\n",
              "      <td>moderado</td>\n",
              "      <td>moderado</td>\n",
              "      <td>Acierto</td>\n",
              "      <td>TEXTO CLÍNICO: Paciente diabético con herida en pie que no cicatriza. Signos de pie diabético.. AFECCIÓN DIAGNOSTICADA: diabetes tipo 2. GÉNERO: M. EDAD: 69.</td>\n",
              "    </tr>\n",
              "    <tr>\n",
              "      <th>7</th>\n",
              "      <td>moderado</td>\n",
              "      <td>moderado</td>\n",
              "      <td>Acierto</td>\n",
              "      <td>TEXTO CLÍNICO: Paciente con asma persistente moderado. Necesita corticoides inhalados a diario para control.. AFECCIÓN DIAGNOSTICADA: asma. GÉNERO: M. EDAD: 35.</td>\n",
              "    </tr>\n",
              "    <tr>\n",
              "      <th>8</th>\n",
              "      <td>severo</td>\n",
              "      <td>severo</td>\n",
              "      <td>Acierto</td>\n",
              "      <td>TEXTO CLÍNICO: Apendicitis flemonosa encontrada en cirugía. Se realiza apendicectomía sin incidentes.. AFECCIÓN DIAGNOSTICADA: apendicitis aguda. GÉNERO: M. EDAD: 29.</td>\n",
              "    </tr>\n",
              "    <tr>\n",
              "      <th>9</th>\n",
              "      <td>severo</td>\n",
              "      <td>severo</td>\n",
              "      <td>Acierto</td>\n",
              "      <td>TEXTO CLÍNICO: El paciente muestra signos severos como dificultad respiratoria y tos, requiere hospitalización.. AFECCIÓN DIAGNOSTICADA: insuficiencia renal aguda. GÉNERO: M. EDAD: 26.</td>\n",
              "    </tr>\n",
              "  </tbody>\n",
              "</table>\n",
              "</div>\n",
              "    <div class=\"colab-df-buttons\">\n",
              "\n",
              "  <div class=\"colab-df-container\">\n",
              "    <button class=\"colab-df-convert\" onclick=\"convertToInteractive('df-d5f5617c-7d46-48de-87ae-397613daa492')\"\n",
              "            title=\"Convert this dataframe to an interactive table.\"\n",
              "            style=\"display:none;\">\n",
              "\n",
              "  <svg xmlns=\"http://www.w3.org/2000/svg\" height=\"24px\" viewBox=\"0 -960 960 960\">\n",
              "    <path d=\"M120-120v-720h720v720H120Zm60-500h600v-160H180v160Zm220 220h160v-160H400v160Zm0 220h160v-160H400v160ZM180-400h160v-160H180v160Zm440 0h160v-160H620v160ZM180-180h160v-160H180v160Zm440 0h160v-160H620v160Z\"/>\n",
              "  </svg>\n",
              "    </button>\n",
              "\n",
              "  <style>\n",
              "    .colab-df-container {\n",
              "      display:flex;\n",
              "      gap: 12px;\n",
              "    }\n",
              "\n",
              "    .colab-df-convert {\n",
              "      background-color: #E8F0FE;\n",
              "      border: none;\n",
              "      border-radius: 50%;\n",
              "      cursor: pointer;\n",
              "      display: none;\n",
              "      fill: #1967D2;\n",
              "      height: 32px;\n",
              "      padding: 0 0 0 0;\n",
              "      width: 32px;\n",
              "    }\n",
              "\n",
              "    .colab-df-convert:hover {\n",
              "      background-color: #E2EBFA;\n",
              "      box-shadow: 0px 1px 2px rgba(60, 64, 67, 0.3), 0px 1px 3px 1px rgba(60, 64, 67, 0.15);\n",
              "      fill: #174EA6;\n",
              "    }\n",
              "\n",
              "    .colab-df-buttons div {\n",
              "      margin-bottom: 4px;\n",
              "    }\n",
              "\n",
              "    [theme=dark] .colab-df-convert {\n",
              "      background-color: #3B4455;\n",
              "      fill: #D2E3FC;\n",
              "    }\n",
              "\n",
              "    [theme=dark] .colab-df-convert:hover {\n",
              "      background-color: #434B5C;\n",
              "      box-shadow: 0px 1px 3px 1px rgba(0, 0, 0, 0.15);\n",
              "      filter: drop-shadow(0px 1px 2px rgba(0, 0, 0, 0.3));\n",
              "      fill: #FFFFFF;\n",
              "    }\n",
              "  </style>\n",
              "\n",
              "    <script>\n",
              "      const buttonEl =\n",
              "        document.querySelector('#df-d5f5617c-7d46-48de-87ae-397613daa492 button.colab-df-convert');\n",
              "      buttonEl.style.display =\n",
              "        google.colab.kernel.accessAllowed ? 'block' : 'none';\n",
              "\n",
              "      async function convertToInteractive(key) {\n",
              "        const element = document.querySelector('#df-d5f5617c-7d46-48de-87ae-397613daa492');\n",
              "        const dataTable =\n",
              "          await google.colab.kernel.invokeFunction('convertToInteractive',\n",
              "                                                    [key], {});\n",
              "        if (!dataTable) return;\n",
              "\n",
              "        const docLinkHtml = 'Like what you see? Visit the ' +\n",
              "          '<a target=\"_blank\" href=https://colab.research.google.com/notebooks/data_table.ipynb>data table notebook</a>'\n",
              "          + ' to learn more about interactive tables.';\n",
              "        element.innerHTML = '';\n",
              "        dataTable['output_type'] = 'display_data';\n",
              "        await google.colab.output.renderOutput(dataTable, element);\n",
              "        const docLink = document.createElement('div');\n",
              "        docLink.innerHTML = docLinkHtml;\n",
              "        element.appendChild(docLink);\n",
              "      }\n",
              "    </script>\n",
              "  </div>\n",
              "\n",
              "\n",
              "    <div id=\"df-6c45b42c-faa3-4dbc-956d-b55acbe7b7c3\">\n",
              "      <button class=\"colab-df-quickchart\" onclick=\"quickchart('df-6c45b42c-faa3-4dbc-956d-b55acbe7b7c3')\"\n",
              "                title=\"Suggest charts\"\n",
              "                style=\"display:none;\">\n",
              "\n",
              "<svg xmlns=\"http://www.w3.org/2000/svg\" height=\"24px\"viewBox=\"0 0 24 24\"\n",
              "     width=\"24px\">\n",
              "    <g>\n",
              "        <path d=\"M19 3H5c-1.1 0-2 .9-2 2v14c0 1.1.9 2 2 2h14c1.1 0 2-.9 2-2V5c0-1.1-.9-2-2-2zM9 17H7v-7h2v7zm4 0h-2V7h2v10zm4 0h-2v-4h2v4z\"/>\n",
              "    </g>\n",
              "</svg>\n",
              "      </button>\n",
              "\n",
              "<style>\n",
              "  .colab-df-quickchart {\n",
              "      --bg-color: #E8F0FE;\n",
              "      --fill-color: #1967D2;\n",
              "      --hover-bg-color: #E2EBFA;\n",
              "      --hover-fill-color: #174EA6;\n",
              "      --disabled-fill-color: #AAA;\n",
              "      --disabled-bg-color: #DDD;\n",
              "  }\n",
              "\n",
              "  [theme=dark] .colab-df-quickchart {\n",
              "      --bg-color: #3B4455;\n",
              "      --fill-color: #D2E3FC;\n",
              "      --hover-bg-color: #434B5C;\n",
              "      --hover-fill-color: #FFFFFF;\n",
              "      --disabled-bg-color: #3B4455;\n",
              "      --disabled-fill-color: #666;\n",
              "  }\n",
              "\n",
              "  .colab-df-quickchart {\n",
              "    background-color: var(--bg-color);\n",
              "    border: none;\n",
              "    border-radius: 50%;\n",
              "    cursor: pointer;\n",
              "    display: none;\n",
              "    fill: var(--fill-color);\n",
              "    height: 32px;\n",
              "    padding: 0;\n",
              "    width: 32px;\n",
              "  }\n",
              "\n",
              "  .colab-df-quickchart:hover {\n",
              "    background-color: var(--hover-bg-color);\n",
              "    box-shadow: 0 1px 2px rgba(60, 64, 67, 0.3), 0 1px 3px 1px rgba(60, 64, 67, 0.15);\n",
              "    fill: var(--button-hover-fill-color);\n",
              "  }\n",
              "\n",
              "  .colab-df-quickchart-complete:disabled,\n",
              "  .colab-df-quickchart-complete:disabled:hover {\n",
              "    background-color: var(--disabled-bg-color);\n",
              "    fill: var(--disabled-fill-color);\n",
              "    box-shadow: none;\n",
              "  }\n",
              "\n",
              "  .colab-df-spinner {\n",
              "    border: 2px solid var(--fill-color);\n",
              "    border-color: transparent;\n",
              "    border-bottom-color: var(--fill-color);\n",
              "    animation:\n",
              "      spin 1s steps(1) infinite;\n",
              "  }\n",
              "\n",
              "  @keyframes spin {\n",
              "    0% {\n",
              "      border-color: transparent;\n",
              "      border-bottom-color: var(--fill-color);\n",
              "      border-left-color: var(--fill-color);\n",
              "    }\n",
              "    20% {\n",
              "      border-color: transparent;\n",
              "      border-left-color: var(--fill-color);\n",
              "      border-top-color: var(--fill-color);\n",
              "    }\n",
              "    30% {\n",
              "      border-color: transparent;\n",
              "      border-left-color: var(--fill-color);\n",
              "      border-top-color: var(--fill-color);\n",
              "      border-right-color: var(--fill-color);\n",
              "    }\n",
              "    40% {\n",
              "      border-color: transparent;\n",
              "      border-right-color: var(--fill-color);\n",
              "      border-top-color: var(--fill-color);\n",
              "    }\n",
              "    60% {\n",
              "      border-color: transparent;\n",
              "      border-right-color: var(--fill-color);\n",
              "    }\n",
              "    80% {\n",
              "      border-color: transparent;\n",
              "      border-right-color: var(--fill-color);\n",
              "      border-bottom-color: var(--fill-color);\n",
              "    }\n",
              "    90% {\n",
              "      border-color: transparent;\n",
              "      border-bottom-color: var(--fill-color);\n",
              "    }\n",
              "  }\n",
              "</style>\n",
              "\n",
              "      <script>\n",
              "        async function quickchart(key) {\n",
              "          const quickchartButtonEl =\n",
              "            document.querySelector('#' + key + ' button');\n",
              "          quickchartButtonEl.disabled = true;  // To prevent multiple clicks.\n",
              "          quickchartButtonEl.classList.add('colab-df-spinner');\n",
              "          try {\n",
              "            const charts = await google.colab.kernel.invokeFunction(\n",
              "                'suggestCharts', [key], {});\n",
              "          } catch (error) {\n",
              "            console.error('Error during call to suggestCharts:', error);\n",
              "          }\n",
              "          quickchartButtonEl.classList.remove('colab-df-spinner');\n",
              "          quickchartButtonEl.classList.add('colab-df-quickchart-complete');\n",
              "        }\n",
              "        (() => {\n",
              "          let quickchartButtonEl =\n",
              "            document.querySelector('#df-6c45b42c-faa3-4dbc-956d-b55acbe7b7c3 button');\n",
              "          quickchartButtonEl.style.display =\n",
              "            google.colab.kernel.accessAllowed ? 'block' : 'none';\n",
              "        })();\n",
              "      </script>\n",
              "    </div>\n",
              "\n",
              "    </div>\n",
              "  </div>\n"
            ],
            "application/vnd.google.colaboratory.intrinsic+json": {
              "type": "dataframe",
              "variable_name": "informe_resultados",
              "summary": "{\n  \"name\": \"informe_resultados\",\n  \"rows\": 137,\n  \"fields\": [\n    {\n      \"column\": \"Gravedad Real\",\n      \"properties\": {\n        \"dtype\": \"category\",\n        \"num_unique_values\": 3,\n        \"samples\": [\n          \"severo\",\n          \"moderado\",\n          \"leve\"\n        ],\n        \"semantic_type\": \"\",\n        \"description\": \"\"\n      }\n    },\n    {\n      \"column\": \"Predicci\\u00f3n de BERT\",\n      \"properties\": {\n        \"dtype\": \"category\",\n        \"num_unique_values\": 3,\n        \"samples\": [\n          \"severo\",\n          \"moderado\",\n          \"leve\"\n        ],\n        \"semantic_type\": \"\",\n        \"description\": \"\"\n      }\n    },\n    {\n      \"column\": \"Resultado\",\n      \"properties\": {\n        \"dtype\": \"category\",\n        \"num_unique_values\": 2,\n        \"samples\": [\n          \"ERROR\",\n          \"Acierto\"\n        ],\n        \"semantic_type\": \"\",\n        \"description\": \"\"\n      }\n    },\n    {\n      \"column\": \"Texto de Entrada para el Modelo\",\n      \"properties\": {\n        \"dtype\": \"string\",\n        \"num_unique_values\": 137,\n        \"samples\": [\n          \"TEXTO CL\\u00cdNICO: Dolor tor\\u00e1cico opresivo irradiado a brazo izquierdo. ECG con elevaci\\u00f3n del segmento ST. Diagn\\u00f3stico: Infarto agudo de miocardio.. AFECCI\\u00d3N DIAGNOSTICADA: infarto agudo de miocardio. G\\u00c9NERO: M. EDAD: 58.\",\n          \"TEXTO CL\\u00cdNICO: El cuadro cl\\u00ednico indica dolor lumbar, con s\\u00edntomas como dolor de cabeza y fiebre.. AFECCI\\u00d3N DIAGNOSTICADA: dolor lumbar. G\\u00c9NERO: M. EDAD: 21.\"\n        ],\n        \"semantic_type\": \"\",\n        \"description\": \"\"\n      }\n    }\n  ]\n}"
            }
          },
          "metadata": {},
          "execution_count": 39
        }
      ]
    },
    {
      "cell_type": "markdown",
      "source": [
        "# **ANÁLISIS Y DISCUSIÓN**"
      ],
      "metadata": {
        "id": "IS-fv34rpZBU"
      }
    },
    {
      "cell_type": "markdown",
      "source": [
        "**Comparación de metricas entre modelos para análisis final**"
      ],
      "metadata": {
        "id": "FMXLuQkrVBlP"
      }
    },
    {
      "cell_type": "code",
      "source": [
        "from sklearn.metrics import classification_report\n",
        "\n",
        "# --- 1. Evaluación del Modelo Multinomial Naive Bayes ---\n",
        "print(\"\\n--- Modelo 1: Multinomial Naive Bayes (con TF-IDF) ---\")\n",
        "print(classification_report(y_test, y_pred_nb, target_names=label_names))\n",
        "\n",
        "# --- 2. Evaluación del Modelo Random Forest ---\n",
        "print(\"\\n--- Modelo 2: Random Forest (con Word2Vec) ---\")\n",
        "print(classification_report(y_test, y_pred_rf, target_names=label_names))\n",
        "\n",
        "# --- 3. Evaluación SVM\n",
        "print(\"\\n--- Modelo 2: SVM (con Word2Vec) ---\")\n",
        "print(classification_report(y_test, y_pred_svc, target_names=label_names))\n",
        "\n",
        "# --- 4. Evaluación del Modelo Transformer (BERT) ---\n",
        "print(\"\\n--- Modelo 3: Transformer (BERT) Fine-Tuned ---\")\n",
        "print(classification_report(y_true_labels, y_pred_labels, target_names=label_names))\n"
      ],
      "metadata": {
        "colab": {
          "base_uri": "https://localhost:8080/"
        },
        "id": "Kd31Kdl4Nl8X",
        "outputId": "6d0b6cb6-5222-4d04-8dd1-34b65f0c95e2"
      },
      "execution_count": null,
      "outputs": [
        {
          "output_type": "stream",
          "name": "stdout",
          "text": [
            "\n",
            "--- Modelo 1: Multinomial Naive Bayes (con TF-IDF) ---\n",
            "              precision    recall  f1-score   support\n",
            "\n",
            "        leve       1.00      0.85      0.92        34\n",
            "    moderado       0.81      0.93      0.87        60\n",
            "      severo       0.90      0.81      0.85        43\n",
            "\n",
            "    accuracy                           0.88       137\n",
            "   macro avg       0.90      0.87      0.88       137\n",
            "weighted avg       0.89      0.88      0.88       137\n",
            "\n",
            "\n",
            "--- Modelo 2: Random Forest (con Word2Vec) ---\n",
            "              precision    recall  f1-score   support\n",
            "\n",
            "        leve       1.00      0.85      0.92        34\n",
            "    moderado       0.78      0.95      0.86        60\n",
            "      severo       0.91      0.74      0.82        43\n",
            "\n",
            "    accuracy                           0.86       137\n",
            "   macro avg       0.90      0.85      0.87       137\n",
            "weighted avg       0.88      0.86      0.86       137\n",
            "\n",
            "\n",
            "--- Modelo 2: SVM (con Word2Vec) ---\n",
            "              precision    recall  f1-score   support\n",
            "\n",
            "        leve       0.00      0.00      0.00        34\n",
            "    moderado       0.44      1.00      0.61        60\n",
            "      severo       0.00      0.00      0.00        43\n",
            "\n",
            "    accuracy                           0.44       137\n",
            "   macro avg       0.15      0.33      0.20       137\n",
            "weighted avg       0.19      0.44      0.27       137\n",
            "\n",
            "\n",
            "--- Modelo 3: Transformer (BERT) Fine-Tuned ---\n",
            "              precision    recall  f1-score   support\n",
            "\n",
            "        leve       1.00      1.00      1.00        34\n",
            "    moderado       1.00      0.97      0.98        60\n",
            "      severo       0.96      1.00      0.98        43\n",
            "\n",
            "    accuracy                           0.99       137\n",
            "   macro avg       0.99      0.99      0.99       137\n",
            "weighted avg       0.99      0.99      0.99       137\n",
            "\n"
          ]
        }
      ]
    },
    {
      "cell_type": "markdown",
      "source": [
        "| Modelo                               | Accuracy | Macro F1 | Observaciones clave                                                                  |\n",
        "| ------------------------------------ | -------- | -------- | ------------------------------------------------------------------------------------ |\n",
        "| **Multinomial Naive Bayes (TF-IDF)** | **0.88** | 0.88     | Buen balance entre clases; destaca en *leve* y *moderado*.                           |\n",
        "| **Random Forest (Word2Vec)**         | 0.86     | 0.87     | Similar a Naive Bayes, pero con ligera caída en *severo*.                            |\n",
        "| **SVM (Word2Vec)**                   | 0.44     | 0.20     | Claramente falla: solo predice bien *moderado*, ignora las demás clases.             |\n",
        "| **BERT Fine-Tuned**                  | **0.99** | **0.99** | Desempeño casi perfecto en todas las clases; captura mejor las sutilezas semánticas. |\n"
      ],
      "metadata": {
        "id": "XcUpb5HV2TJ6"
      }
    },
    {
      "cell_type": "markdown",
      "source": [
        "- Para un uso en producción, el modelo BERT es claramente la mejor elección por su capacidad de generalización.\n",
        "\n",
        "- Sin embargo, Naive Bayes + TF-IDF sigue siendo una opción simple, ligera y explicable, útil cuando se busca rapidez o se tienen recursos computacionales limitados."
      ],
      "metadata": {
        "id": "6XhRJ90E2nhn"
      }
    },
    {
      "cell_type": "markdown",
      "source": [
        "**Análisis de Rendimiento Estratificado por Sesgo (Género) en BERT**"
      ],
      "metadata": {
        "id": "0VHv762aOMWo"
      }
    },
    {
      "cell_type": "code",
      "source": [
        "# Reporte para el género Femenino ('F')\n",
        "print(\"\\nReporte de Clasificación para Género: Femenino\")\n",
        "df_femenino = df_val_results[df_val_results['genero'] == 'F']\n",
        "# Se añade zero_division=0 para evitar warnings si una clase no tiene predicciones en el subconjunto\n",
        "print(classification_report(df_femenino['gravedad_real'], df_femenino['gravedad_pred'], labels=['leve', 'moderado', 'severo'], zero_division=0))\n",
        "\n",
        "# Reporte para el género Masculino ('M')\n",
        "print(\"\\nReporte de Clasificación para Género: Masculino\")\n",
        "df_masculino = df_val_results[df_val_results['genero'] == 'M']\n",
        "print(classification_report(df_masculino['gravedad_real'], df_masculino['gravedad_pred'], labels=['leve', 'moderado', 'severo'], zero_division=0))\n"
      ],
      "metadata": {
        "colab": {
          "base_uri": "https://localhost:8080/"
        },
        "id": "Y9LoDrqdGPOY",
        "outputId": "cdb2e4f8-259c-44b3-97a8-d4adbc5416fb"
      },
      "execution_count": null,
      "outputs": [
        {
          "output_type": "stream",
          "name": "stdout",
          "text": [
            "\n",
            "Reporte de Clasificación para Género: Femenino\n",
            "              precision    recall  f1-score   support\n",
            "\n",
            "        leve       1.00      1.00      1.00        13\n",
            "    moderado       1.00      1.00      1.00        27\n",
            "      severo       1.00      1.00      1.00        12\n",
            "\n",
            "    accuracy                           1.00        52\n",
            "   macro avg       1.00      1.00      1.00        52\n",
            "weighted avg       1.00      1.00      1.00        52\n",
            "\n",
            "\n",
            "Reporte de Clasificación para Género: Masculino\n",
            "              precision    recall  f1-score   support\n",
            "\n",
            "        leve       1.00      1.00      1.00        21\n",
            "    moderado       1.00      0.94      0.97        33\n",
            "      severo       0.94      1.00      0.97        31\n",
            "\n",
            "    accuracy                           0.98        85\n",
            "   macro avg       0.98      0.98      0.98        85\n",
            "weighted avg       0.98      0.98      0.98        85\n",
            "\n"
          ]
        }
      ]
    },
    {
      "cell_type": "markdown",
      "source": [
        "**- Evaluación de sesgo por género:**\n",
        "\n",
        "   - El dataset utilizado contiene 455 registros con distribución de género:\n",
        "     - Masculino (M): 256 casos (56.26%)\n",
        "     - Femenino (F): 199 casos (43.74%)\n",
        "\n",
        "Para evaluar el rendimiento del modelo en diferentes subgrupos demográficos, se realizó un análisis estratificado por género sobre las predicciones del modelo BERT, que fue el de mejor rendimiento.\n",
        "El modelo muestra un rendimiento similar para ambos géneros en las métricas principales. Pequeñas variaciones se observan en las métricas de precisión y recall para algunas clases en el caso del género masculino, donde el modelo dió solo dos casos mal clasificados.\n",
        "\n",
        "No se reflejan diferencias reales en los registros clínicos como una representación desigual en los datos (p. ej., más casos de un género que de otro).\n",
        "\n",
        "**- Sesgos potenciales detectados:**\n",
        "\n",
        "Se podrían considerar ciertas características generales en los datos que a futuro podrían provocar diferencias más significativas con un aumento textual y además con una variación lingüistica, problema propio de estos casos.\n",
        "\n",
        "**Sesgo de representación:** Ligero desbalance en la distribución por género (56% M vs 44% F)\n",
        "\n",
        "**Sesgo en diversidad lingüística:** El dataset puede no cubrir completamente variaciones dialectales o socioeconómicas, en el mundo real existen casos atípicos o con un lenguaje más ambiguo.\n",
        "\n",
        "**Sesgo en complejidad clínica:** Algunas afecciones están sobrerrepresentadas respecto a otras.\n",
        "\n",
        "**- Propuesta de Mitigación:**\n",
        "\n",
        "**Enriquecimiento del Dataset:** La mitigación más importante observada en este proyecto que debe implementarse es mejorar el conjunto de datos. Se debe utilizar un dataset más grande, diverso y representativo del lenguaje clínico real, introduciendo ambigüedad (síntomas que aplican a múltiples gravedades) y variedad lingüística (sinónimos, jergas, abreviaturas). Esto se menciona desde un principio en la explicación de la carga del dataset."
      ],
      "metadata": {
        "id": "ifF5EZRruhQH"
      }
    },
    {
      "cell_type": "markdown",
      "source": [
        "**Reflexión ética**\n",
        "\n",
        "- **Justificación del Modelo Elegido:** El modelo final de mejor rendimiento fue BERT (dccuchile/bert-base-spanish-wwm-cased). La elección se justifica por su capacidad de comprender el contexto semántico completo de una oración, lo cual es fundamental para la terminología médica. A diferencia de modelos como TF-IDF (basado en frecuencia de palabras) o Word2Vec (basado en semántica de palabras aisladas), BERT puede capturar las complejas interacciones entre el texto clínico y los datos demográficos concatenados. Además, con el modelo seleccionado entrenado por una universidad chilena, se enriquece el lenguaje y las posibilidades de utilización en el entorno local, cabe señalar, que tambien existe el modelo PATANA que incluye chilenismos al ser entrenado con información de reportajes, redes sociales, noticias, etc., todo dentro del contexto cultural chileno.\n",
        "\n",
        "- **Responsabilidad Social:** El objetivo de un sistema como este es de alto impacto social, ayuda a la detección temprana de afecciones graves para mejorar la priorización y el tratamiento de pacientes. La responsabilidad social recae en garantizar que esta herramienta sea justa, equitativa y confiable. Un sistema sesgado o poco robusto podría causar un daño real al retrasar la atención de ciertos grupos de pacientes, perpetuando inequidades en el sistema de salud. Por lo tanto, el criterio del equipo que emplee modelos de este tipo debe estar en constante revisión de la calidad de los datos para evitar sobrerepresentación que genere sesgos negativos que pueden llegar a traer consecuencias vitales.\n",
        "\n",
        "- **Riesgo de Falsa Confianza por \"Perfección\" del Modelo:** Llegar a un accuracy del 100% en un entorno de prueba genera una falsa sensación de seguridad. El riesgo es desplegar un modelo que no puede generalizar a datos reales, lo que podría llevar a errores de diagnóstico graves, por lo que hay que tomar con desconfianza este hecho y revizar la calidad de los datos. En este proyecto en particualr, se realizaron inicialmente pruebas con un set de 200 citas médicas, al probar los modelos se obtenian métricas de clasificación perfecta por lo que alertó de que algo corría mal. Finalmente, se generan más citas empleando mayor variabilidad de lenguaje, donde no estuviera explícita la gravedad de las afecciones, para que así el método semántico de BERT demostrara su potencialidad por sobre los demás modelos más clásicos."
      ],
      "metadata": {
        "id": "2JYpeclHxoRb"
      }
    }
  ]
}